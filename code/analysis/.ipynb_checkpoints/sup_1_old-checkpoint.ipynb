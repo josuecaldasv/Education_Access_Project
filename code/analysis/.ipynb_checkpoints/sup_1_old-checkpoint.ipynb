{
 "cells": [
  {
   "cell_type": "markdown",
   "id": "e98a1274-9814-409e-8cb3-3c9b4c2b471e",
   "metadata": {},
   "source": [
    "# Variable dependiente: Acceso a Educación Superior (dicotómica)"
   ]
  },
  {
   "cell_type": "markdown",
   "id": "43cfe17b-a071-429c-a9e9-923553bbcbe8",
   "metadata": {},
   "source": [
    "## 1. Cargar data"
   ]
  },
  {
   "cell_type": "code",
   "execution_count": 1,
   "id": "1b583b68-8f4e-466b-844d-630fe3555b01",
   "metadata": {},
   "outputs": [],
   "source": [
    "import pandas as  pd, numpy as np\n",
    "import variables as vb"
   ]
  },
  {
   "cell_type": "code",
   "execution_count": 2,
   "id": "6665f120-017c-4d00-8dcd-da5330d9a967",
   "metadata": {},
   "outputs": [],
   "source": [
    "# Cargar datos\n",
    "path = r'..\\..\\output\\data_preprocess\\dfs_1_sup.csv'\n",
    "data_original = pd.read_csv( path )"
   ]
  },
  {
   "cell_type": "code",
   "execution_count": 3,
   "id": "a79fb074-b2bd-4736-b3cd-05daa7b632f5",
   "metadata": {},
   "outputs": [
    {
     "data": {
      "text/plain": [
       "(392, 285)"
      ]
     },
     "execution_count": 3,
     "metadata": {},
     "output_type": "execute_result"
    }
   ],
   "source": [
    "data_original.shape"
   ]
  },
  {
   "cell_type": "markdown",
   "id": "c525ca70-d8c4-4126-84a1-8324405b16a9",
   "metadata": {},
   "source": [
    "## 2. Scale only numeric vars"
   ]
  },
  {
   "cell_type": "code",
   "execution_count": 4,
   "id": "f07cf93b-62d1-4d88-852d-894427a7b65c",
   "metadata": {},
   "outputs": [],
   "source": [
    "# https://stackoverflow.com/questions/38420847/apply-standardscaler-to-parts-of-a-data-set\n",
    "\n",
    "from sklearn.preprocessing import StandardScaler\n",
    "\n",
    "data = data_original.copy()\n",
    "\n",
    "numeric_vars = [col for col in data.columns if col in vb.num_vars ]\n",
    "\n",
    "cols = data[ numeric_vars ]\n",
    "scaler = StandardScaler().fit( cols.values )\n",
    "cols = scaler.transform( cols.values )\n",
    "\n",
    "data[ numeric_vars ] = cols"
   ]
  },
  {
   "cell_type": "markdown",
   "id": "b1263fa6-88d2-4a2a-bb06-a152ac553526",
   "metadata": {},
   "source": [
    "## 3. Split variables"
   ]
  },
  {
   "cell_type": "code",
   "execution_count": 5,
   "id": "b7e61c9b-26c2-4354-aab7-c4bfe3b74a7c",
   "metadata": {},
   "outputs": [],
   "source": [
    "from sklearn.model_selection import train_test_split"
   ]
  },
  {
   "cell_type": "code",
   "execution_count": 6,
   "id": "5565dfa2-2bff-4e16-803d-8b074c34666d",
   "metadata": {},
   "outputs": [],
   "source": [
    "dep_var = [ 'e_educacion_sup' ]\n",
    "pred_vars = [col for col in data.columns if col not in vb.dep_vars and col not in dep_var ]\n",
    "x_train, x_test, y_train, y_test = train_test_split( data[ pred_vars ], data[ 'e_educacion_sup' ], test_size = 0.20 )"
   ]
  },
  {
   "cell_type": "markdown",
   "id": "de2cb7c5-715f-4048-af70-b652d907e293",
   "metadata": {},
   "source": [
    "## 4. Logistic Regression"
   ]
  },
  {
   "cell_type": "code",
   "execution_count": 7,
   "id": "83677032-531a-4b21-9153-c17b62ee9bed",
   "metadata": {},
   "outputs": [],
   "source": [
    "from sklearn.linear_model import LogisticRegression\n",
    "from sklearn.metrics import accuracy_score, confusion_matrix, log_loss, roc_auc_score"
   ]
  },
  {
   "cell_type": "code",
   "execution_count": 8,
   "id": "6117c115-3dfd-4c75-a102-44cc92510a58",
   "metadata": {},
   "outputs": [
    {
     "name": "stdout",
     "output_type": "stream",
     "text": [
      "Wall time: 114 ms\n"
     ]
    }
   ],
   "source": [
    "%%time\n",
    "\n",
    "# Implementing the model\n",
    "lg_model = LogisticRegression( max_iter = 10000 ).fit( x_train, y_train )\n",
    "\n",
    "# Predict over test set\n",
    "y_lg_pred = lg_model.predict( x_test )\n",
    "\n",
    "# Calculating metrics\n",
    "accuracy_lg = accuracy_score( y_test, y_lg_pred )\n",
    "log_loss_lg = log_loss( y_test, y_lg_pred )\n",
    "roc_auc_lg = roc_auc_score( y_test, y_lg_pred )"
   ]
  },
  {
   "cell_type": "markdown",
   "id": "885e8e6c-296d-487d-b825-96e17ea9b508",
   "metadata": {},
   "source": [
    "## 5. Regularization Methods (Lasso, Ridge and Elastic Net)"
   ]
  },
  {
   "cell_type": "code",
   "execution_count": 9,
   "id": "f6a37572-c609-4465-891a-391ad18b79b0",
   "metadata": {},
   "outputs": [],
   "source": [
    "from sklearn.linear_model import LogisticRegressionCV\n",
    "from sklearn.model_selection import GridSearchCV"
   ]
  },
  {
   "cell_type": "markdown",
   "id": "29747e4f-e0c6-4285-92f0-9214ca63883a",
   "metadata": {},
   "source": [
    "## 5.1. Lasso"
   ]
  },
  {
   "cell_type": "code",
   "execution_count": 10,
   "id": "df3ebdba-1439-4038-a96a-7cb0b137febd",
   "metadata": {
    "tags": []
   },
   "outputs": [
    {
     "name": "stdout",
     "output_type": "stream",
     "text": [
      "Wall time: 2min\n"
     ]
    }
   ],
   "source": [
    "%%time\n",
    "\n",
    "# Implementing the model\n",
    "lasso_model = LogisticRegressionCV( penalty = 'l1', solver = 'saga', cv = 10, random_state = 0, max_iter = 10000 ).\\\n",
    "                               fit( x_train, y_train )\n",
    "\n",
    "# Predict over test set\n",
    "y_lasso_pred = lasso_model.predict( x_test )\n",
    "\n",
    "# Calculating metrics\n",
    "accuracy_lasso = accuracy_score( y_test, y_lasso_pred )\n",
    "log_loss_lasso = log_loss( y_test, y_lasso_pred )\n",
    "roc_auc_lasso = roc_auc_score( y_test, y_lasso_pred )"
   ]
  },
  {
   "cell_type": "markdown",
   "id": "f70c1068-7da4-47cc-a7c9-e850d09b3061",
   "metadata": {},
   "source": [
    "## 5.2. Ridge"
   ]
  },
  {
   "cell_type": "code",
   "execution_count": 11,
   "id": "19731d93-b3d3-42b9-b063-d95fd2d800b7",
   "metadata": {
    "tags": []
   },
   "outputs": [
    {
     "name": "stdout",
     "output_type": "stream",
     "text": [
      "Wall time: 1min 21s\n"
     ]
    }
   ],
   "source": [
    "%%time\n",
    "\n",
    "# Implementing the model\n",
    "ridge_model = LogisticRegressionCV( penalty = 'l2', solver = 'saga', cv = 10, random_state = 0, max_iter = 10000 ).\\\n",
    "                               fit( x_train, y_train )\n",
    "\n",
    "# Predict over test set\n",
    "y_ridge_pred = ridge_model.predict( x_test )\n",
    "\n",
    "# Calculating metrics\n",
    "accuracy_ridge = accuracy_score( y_test, y_ridge_pred )\n",
    "log_loss_ridge = log_loss( y_test, y_ridge_pred )\n",
    "roc_auc_ridge = roc_auc_score( y_test, y_ridge_pred )"
   ]
  },
  {
   "cell_type": "markdown",
   "id": "8d4d9a47-fe13-43e3-a75a-36846ba6ca27",
   "metadata": {},
   "source": [
    "### 5.3. Elastic Net"
   ]
  },
  {
   "cell_type": "code",
   "execution_count": 12,
   "id": "cfbb34f0-6341-42cf-8f87-b793ef9596a8",
   "metadata": {},
   "outputs": [
    {
     "name": "stdout",
     "output_type": "stream",
     "text": [
      "Wall time: 1min 52s\n"
     ]
    }
   ],
   "source": [
    "%%time\n",
    "\n",
    "# Implementing the model\n",
    "elasticnet_model = LogisticRegressionCV( penalty = 'elasticnet', solver = 'saga', cv = 10, random_state = 0, l1_ratios = [ 0.5 ], max_iter = 10000 ).\\\n",
    "                                    fit( x_train, y_train )\n",
    "\n",
    "# Predict over test set\n",
    "y_elasticnet_pred = elasticnet_model.predict( x_test )\n",
    "\n",
    "# Calculating metrics\n",
    "accuracy_elasticnet = accuracy_score( y_test, y_elasticnet_pred )\n",
    "log_loss_elasticnet = log_loss( y_test, y_elasticnet_pred )\n",
    "roc_auc_elasticnet = roc_auc_score( y_test, y_elasticnet_pred )"
   ]
  },
  {
   "cell_type": "code",
   "execution_count": 13,
   "id": "59b31756-cde3-433e-a750-8c980f8e1f2d",
   "metadata": {},
   "outputs": [],
   "source": [
    "roc_auc_elasticnet = roc_auc_score( y_test, y_elasticnet_pred )"
   ]
  },
  {
   "cell_type": "markdown",
   "id": "cefe3bc6-56e5-47f6-97e5-06d72c55ad6f",
   "metadata": {},
   "source": [
    "## 6. Random Forest"
   ]
  },
  {
   "cell_type": "code",
   "execution_count": 14,
   "id": "ef9ae7e1-b000-4fac-abb5-e8e32c28488e",
   "metadata": {},
   "outputs": [],
   "source": [
    "from sklearn.ensemble import RandomForestClassifier\n",
    "from sklearn.model_selection import GridSearchCV"
   ]
  },
  {
   "cell_type": "code",
   "execution_count": 15,
   "id": "03fa0a5c-ab3c-41ea-9fc6-fae13f3b42dd",
   "metadata": {},
   "outputs": [
    {
     "name": "stdout",
     "output_type": "stream",
     "text": [
      "{'max_features': 'auto', 'n_estimators': 500}\n",
      "Wall time: 1min 35s\n"
     ]
    }
   ],
   "source": [
    "%%time\n",
    "\n",
    "# Set the model\n",
    "rf_model = RandomForestClassifier( random_state = 0 )\n",
    "\n",
    "# Define param grid\n",
    "rf_param_grid = {\n",
    "    'n_estimators': [ 500, 1000, 2000 ],\n",
    "    'max_features': [ 'auto', 'sqrt', 'log2' ]\n",
    "}\n",
    "\n",
    "# Grid search\n",
    "rf_search = GridSearchCV( estimator = rf_model,\n",
    "                          param_grid = rf_param_grid )\n",
    "\n",
    "# Fit to data\n",
    "rf_search.fit( x_train, y_train )\n",
    "\n",
    "# Print best params and best score\n",
    "print( rf_search.best_params_ )"
   ]
  },
  {
   "cell_type": "code",
   "execution_count": 23,
   "id": "79dcabe0-c7bd-451f-96ba-62113f3618bd",
   "metadata": {},
   "outputs": [],
   "source": [
    "# Train the optimal model\n",
    "rf_optimal_model = RandomForestClassifier( max_features = 'auto', \n",
    "                                           n_estimators =  500 )\n",
    "rf_optimal_model.fit( x_train, y_train )\n",
    "\n",
    "# Apply over test set\n",
    "y_rf_pred = rf_optimal_model.predict( x_test )\n",
    "\n",
    "# Guardar indicadores\n",
    "accuracy_random_forest = accuracy_score( y_test, y_rf_pred )\n",
    "log_loss_random_forest = log_loss( y_test, y_rf_pred )\n",
    "roc_auc_random_forest = roc_auc_score( y_test, y_rf_pred )"
   ]
  },
  {
   "cell_type": "markdown",
   "id": "026f6749-f136-4af6-bc6d-1e74f5b545fe",
   "metadata": {},
   "source": [
    "## 7. Boosted Trees"
   ]
  },
  {
   "cell_type": "code",
   "execution_count": 17,
   "id": "a5ab6514-d4b1-4269-80c4-aac63934946c",
   "metadata": {
    "collapsed": true,
    "jupyter": {
     "outputs_hidden": true
    },
    "tags": []
   },
   "outputs": [
    {
     "name": "stderr",
     "output_type": "stream",
     "text": [
      "C:\\Anaconda\\lib\\site-packages\\xgboost\\compat.py:36: FutureWarning: pandas.Int64Index is deprecated and will be removed from pandas in a future version. Use pandas.Index with the appropriate dtype instead.\n",
      "  from pandas import MultiIndex, Int64Index\n"
     ]
    }
   ],
   "source": [
    "from xgboost import XGBClassifier"
   ]
  },
  {
   "cell_type": "code",
   "execution_count": 24,
   "id": "ec17151f-0cd5-4b8f-a650-e913b3078648",
   "metadata": {
    "collapsed": true,
    "jupyter": {
     "outputs_hidden": true
    },
    "tags": []
   },
   "outputs": [
    {
     "name": "stderr",
     "output_type": "stream",
     "text": [
      "C:\\Anaconda\\lib\\site-packages\\xgboost\\data.py:262: FutureWarning: pandas.Int64Index is deprecated and will be removed from pandas in a future version. Use pandas.Index with the appropriate dtype instead.\n",
      "  elif isinstance(data.columns, (pd.Int64Index, pd.RangeIndex)):\n",
      "C:\\Anaconda\\lib\\site-packages\\xgboost\\data.py:262: FutureWarning: pandas.Int64Index is deprecated and will be removed from pandas in a future version. Use pandas.Index with the appropriate dtype instead.\n",
      "  elif isinstance(data.columns, (pd.Int64Index, pd.RangeIndex)):\n",
      "C:\\Anaconda\\lib\\site-packages\\xgboost\\data.py:262: FutureWarning: pandas.Int64Index is deprecated and will be removed from pandas in a future version. Use pandas.Index with the appropriate dtype instead.\n",
      "  elif isinstance(data.columns, (pd.Int64Index, pd.RangeIndex)):\n",
      "C:\\Anaconda\\lib\\site-packages\\xgboost\\data.py:262: FutureWarning: pandas.Int64Index is deprecated and will be removed from pandas in a future version. Use pandas.Index with the appropriate dtype instead.\n",
      "  elif isinstance(data.columns, (pd.Int64Index, pd.RangeIndex)):\n",
      "C:\\Anaconda\\lib\\site-packages\\xgboost\\data.py:262: FutureWarning: pandas.Int64Index is deprecated and will be removed from pandas in a future version. Use pandas.Index with the appropriate dtype instead.\n",
      "  elif isinstance(data.columns, (pd.Int64Index, pd.RangeIndex)):\n",
      "C:\\Anaconda\\lib\\site-packages\\xgboost\\data.py:262: FutureWarning: pandas.Int64Index is deprecated and will be removed from pandas in a future version. Use pandas.Index with the appropriate dtype instead.\n",
      "  elif isinstance(data.columns, (pd.Int64Index, pd.RangeIndex)):\n",
      "C:\\Anaconda\\lib\\site-packages\\xgboost\\data.py:262: FutureWarning: pandas.Int64Index is deprecated and will be removed from pandas in a future version. Use pandas.Index with the appropriate dtype instead.\n",
      "  elif isinstance(data.columns, (pd.Int64Index, pd.RangeIndex)):\n",
      "C:\\Anaconda\\lib\\site-packages\\xgboost\\data.py:262: FutureWarning: pandas.Int64Index is deprecated and will be removed from pandas in a future version. Use pandas.Index with the appropriate dtype instead.\n",
      "  elif isinstance(data.columns, (pd.Int64Index, pd.RangeIndex)):\n",
      "C:\\Anaconda\\lib\\site-packages\\xgboost\\data.py:262: FutureWarning: pandas.Int64Index is deprecated and will be removed from pandas in a future version. Use pandas.Index with the appropriate dtype instead.\n",
      "  elif isinstance(data.columns, (pd.Int64Index, pd.RangeIndex)):\n",
      "C:\\Anaconda\\lib\\site-packages\\xgboost\\data.py:262: FutureWarning: pandas.Int64Index is deprecated and will be removed from pandas in a future version. Use pandas.Index with the appropriate dtype instead.\n",
      "  elif isinstance(data.columns, (pd.Int64Index, pd.RangeIndex)):\n",
      "C:\\Anaconda\\lib\\site-packages\\xgboost\\data.py:262: FutureWarning: pandas.Int64Index is deprecated and will be removed from pandas in a future version. Use pandas.Index with the appropriate dtype instead.\n",
      "  elif isinstance(data.columns, (pd.Int64Index, pd.RangeIndex)):\n",
      "C:\\Anaconda\\lib\\site-packages\\xgboost\\data.py:262: FutureWarning: pandas.Int64Index is deprecated and will be removed from pandas in a future version. Use pandas.Index with the appropriate dtype instead.\n",
      "  elif isinstance(data.columns, (pd.Int64Index, pd.RangeIndex)):\n",
      "C:\\Anaconda\\lib\\site-packages\\xgboost\\data.py:262: FutureWarning: pandas.Int64Index is deprecated and will be removed from pandas in a future version. Use pandas.Index with the appropriate dtype instead.\n",
      "  elif isinstance(data.columns, (pd.Int64Index, pd.RangeIndex)):\n",
      "C:\\Anaconda\\lib\\site-packages\\xgboost\\data.py:262: FutureWarning: pandas.Int64Index is deprecated and will be removed from pandas in a future version. Use pandas.Index with the appropriate dtype instead.\n",
      "  elif isinstance(data.columns, (pd.Int64Index, pd.RangeIndex)):\n",
      "C:\\Anaconda\\lib\\site-packages\\xgboost\\data.py:262: FutureWarning: pandas.Int64Index is deprecated and will be removed from pandas in a future version. Use pandas.Index with the appropriate dtype instead.\n",
      "  elif isinstance(data.columns, (pd.Int64Index, pd.RangeIndex)):\n",
      "C:\\Anaconda\\lib\\site-packages\\xgboost\\data.py:262: FutureWarning: pandas.Int64Index is deprecated and will be removed from pandas in a future version. Use pandas.Index with the appropriate dtype instead.\n",
      "  elif isinstance(data.columns, (pd.Int64Index, pd.RangeIndex)):\n",
      "C:\\Anaconda\\lib\\site-packages\\xgboost\\data.py:262: FutureWarning: pandas.Int64Index is deprecated and will be removed from pandas in a future version. Use pandas.Index with the appropriate dtype instead.\n",
      "  elif isinstance(data.columns, (pd.Int64Index, pd.RangeIndex)):\n",
      "C:\\Anaconda\\lib\\site-packages\\xgboost\\data.py:262: FutureWarning: pandas.Int64Index is deprecated and will be removed from pandas in a future version. Use pandas.Index with the appropriate dtype instead.\n",
      "  elif isinstance(data.columns, (pd.Int64Index, pd.RangeIndex)):\n",
      "C:\\Anaconda\\lib\\site-packages\\xgboost\\data.py:262: FutureWarning: pandas.Int64Index is deprecated and will be removed from pandas in a future version. Use pandas.Index with the appropriate dtype instead.\n",
      "  elif isinstance(data.columns, (pd.Int64Index, pd.RangeIndex)):\n",
      "C:\\Anaconda\\lib\\site-packages\\xgboost\\data.py:262: FutureWarning: pandas.Int64Index is deprecated and will be removed from pandas in a future version. Use pandas.Index with the appropriate dtype instead.\n",
      "  elif isinstance(data.columns, (pd.Int64Index, pd.RangeIndex)):\n",
      "C:\\Anaconda\\lib\\site-packages\\xgboost\\data.py:262: FutureWarning: pandas.Int64Index is deprecated and will be removed from pandas in a future version. Use pandas.Index with the appropriate dtype instead.\n",
      "  elif isinstance(data.columns, (pd.Int64Index, pd.RangeIndex)):\n",
      "C:\\Anaconda\\lib\\site-packages\\xgboost\\data.py:262: FutureWarning: pandas.Int64Index is deprecated and will be removed from pandas in a future version. Use pandas.Index with the appropriate dtype instead.\n",
      "  elif isinstance(data.columns, (pd.Int64Index, pd.RangeIndex)):\n",
      "C:\\Anaconda\\lib\\site-packages\\xgboost\\data.py:262: FutureWarning: pandas.Int64Index is deprecated and will be removed from pandas in a future version. Use pandas.Index with the appropriate dtype instead.\n",
      "  elif isinstance(data.columns, (pd.Int64Index, pd.RangeIndex)):\n",
      "C:\\Anaconda\\lib\\site-packages\\xgboost\\data.py:262: FutureWarning: pandas.Int64Index is deprecated and will be removed from pandas in a future version. Use pandas.Index with the appropriate dtype instead.\n",
      "  elif isinstance(data.columns, (pd.Int64Index, pd.RangeIndex)):\n",
      "C:\\Anaconda\\lib\\site-packages\\xgboost\\data.py:262: FutureWarning: pandas.Int64Index is deprecated and will be removed from pandas in a future version. Use pandas.Index with the appropriate dtype instead.\n",
      "  elif isinstance(data.columns, (pd.Int64Index, pd.RangeIndex)):\n",
      "C:\\Anaconda\\lib\\site-packages\\xgboost\\data.py:262: FutureWarning: pandas.Int64Index is deprecated and will be removed from pandas in a future version. Use pandas.Index with the appropriate dtype instead.\n",
      "  elif isinstance(data.columns, (pd.Int64Index, pd.RangeIndex)):\n",
      "C:\\Anaconda\\lib\\site-packages\\xgboost\\data.py:262: FutureWarning: pandas.Int64Index is deprecated and will be removed from pandas in a future version. Use pandas.Index with the appropriate dtype instead.\n",
      "  elif isinstance(data.columns, (pd.Int64Index, pd.RangeIndex)):\n",
      "C:\\Anaconda\\lib\\site-packages\\xgboost\\data.py:262: FutureWarning: pandas.Int64Index is deprecated and will be removed from pandas in a future version. Use pandas.Index with the appropriate dtype instead.\n",
      "  elif isinstance(data.columns, (pd.Int64Index, pd.RangeIndex)):\n",
      "C:\\Anaconda\\lib\\site-packages\\xgboost\\data.py:262: FutureWarning: pandas.Int64Index is deprecated and will be removed from pandas in a future version. Use pandas.Index with the appropriate dtype instead.\n",
      "  elif isinstance(data.columns, (pd.Int64Index, pd.RangeIndex)):\n",
      "C:\\Anaconda\\lib\\site-packages\\xgboost\\data.py:262: FutureWarning: pandas.Int64Index is deprecated and will be removed from pandas in a future version. Use pandas.Index with the appropriate dtype instead.\n",
      "  elif isinstance(data.columns, (pd.Int64Index, pd.RangeIndex)):\n",
      "C:\\Anaconda\\lib\\site-packages\\xgboost\\data.py:262: FutureWarning: pandas.Int64Index is deprecated and will be removed from pandas in a future version. Use pandas.Index with the appropriate dtype instead.\n",
      "  elif isinstance(data.columns, (pd.Int64Index, pd.RangeIndex)):\n",
      "C:\\Anaconda\\lib\\site-packages\\xgboost\\data.py:262: FutureWarning: pandas.Int64Index is deprecated and will be removed from pandas in a future version. Use pandas.Index with the appropriate dtype instead.\n",
      "  elif isinstance(data.columns, (pd.Int64Index, pd.RangeIndex)):\n",
      "C:\\Anaconda\\lib\\site-packages\\xgboost\\data.py:262: FutureWarning: pandas.Int64Index is deprecated and will be removed from pandas in a future version. Use pandas.Index with the appropriate dtype instead.\n",
      "  elif isinstance(data.columns, (pd.Int64Index, pd.RangeIndex)):\n",
      "C:\\Anaconda\\lib\\site-packages\\xgboost\\data.py:262: FutureWarning: pandas.Int64Index is deprecated and will be removed from pandas in a future version. Use pandas.Index with the appropriate dtype instead.\n",
      "  elif isinstance(data.columns, (pd.Int64Index, pd.RangeIndex)):\n",
      "C:\\Anaconda\\lib\\site-packages\\xgboost\\data.py:262: FutureWarning: pandas.Int64Index is deprecated and will be removed from pandas in a future version. Use pandas.Index with the appropriate dtype instead.\n",
      "  elif isinstance(data.columns, (pd.Int64Index, pd.RangeIndex)):\n",
      "C:\\Anaconda\\lib\\site-packages\\xgboost\\data.py:262: FutureWarning: pandas.Int64Index is deprecated and will be removed from pandas in a future version. Use pandas.Index with the appropriate dtype instead.\n",
      "  elif isinstance(data.columns, (pd.Int64Index, pd.RangeIndex)):\n",
      "C:\\Anaconda\\lib\\site-packages\\xgboost\\data.py:262: FutureWarning: pandas.Int64Index is deprecated and will be removed from pandas in a future version. Use pandas.Index with the appropriate dtype instead.\n",
      "  elif isinstance(data.columns, (pd.Int64Index, pd.RangeIndex)):\n",
      "C:\\Anaconda\\lib\\site-packages\\xgboost\\data.py:262: FutureWarning: pandas.Int64Index is deprecated and will be removed from pandas in a future version. Use pandas.Index with the appropriate dtype instead.\n",
      "  elif isinstance(data.columns, (pd.Int64Index, pd.RangeIndex)):\n",
      "C:\\Anaconda\\lib\\site-packages\\xgboost\\data.py:262: FutureWarning: pandas.Int64Index is deprecated and will be removed from pandas in a future version. Use pandas.Index with the appropriate dtype instead.\n",
      "  elif isinstance(data.columns, (pd.Int64Index, pd.RangeIndex)):\n",
      "C:\\Anaconda\\lib\\site-packages\\xgboost\\data.py:262: FutureWarning: pandas.Int64Index is deprecated and will be removed from pandas in a future version. Use pandas.Index with the appropriate dtype instead.\n",
      "  elif isinstance(data.columns, (pd.Int64Index, pd.RangeIndex)):\n",
      "C:\\Anaconda\\lib\\site-packages\\xgboost\\data.py:262: FutureWarning: pandas.Int64Index is deprecated and will be removed from pandas in a future version. Use pandas.Index with the appropriate dtype instead.\n",
      "  elif isinstance(data.columns, (pd.Int64Index, pd.RangeIndex)):\n",
      "C:\\Anaconda\\lib\\site-packages\\xgboost\\data.py:262: FutureWarning: pandas.Int64Index is deprecated and will be removed from pandas in a future version. Use pandas.Index with the appropriate dtype instead.\n",
      "  elif isinstance(data.columns, (pd.Int64Index, pd.RangeIndex)):\n",
      "C:\\Anaconda\\lib\\site-packages\\xgboost\\data.py:262: FutureWarning: pandas.Int64Index is deprecated and will be removed from pandas in a future version. Use pandas.Index with the appropriate dtype instead.\n",
      "  elif isinstance(data.columns, (pd.Int64Index, pd.RangeIndex)):\n",
      "C:\\Anaconda\\lib\\site-packages\\xgboost\\data.py:262: FutureWarning: pandas.Int64Index is deprecated and will be removed from pandas in a future version. Use pandas.Index with the appropriate dtype instead.\n",
      "  elif isinstance(data.columns, (pd.Int64Index, pd.RangeIndex)):\n",
      "C:\\Anaconda\\lib\\site-packages\\xgboost\\data.py:262: FutureWarning: pandas.Int64Index is deprecated and will be removed from pandas in a future version. Use pandas.Index with the appropriate dtype instead.\n",
      "  elif isinstance(data.columns, (pd.Int64Index, pd.RangeIndex)):\n",
      "C:\\Anaconda\\lib\\site-packages\\xgboost\\data.py:262: FutureWarning: pandas.Int64Index is deprecated and will be removed from pandas in a future version. Use pandas.Index with the appropriate dtype instead.\n",
      "  elif isinstance(data.columns, (pd.Int64Index, pd.RangeIndex)):\n"
     ]
    },
    {
     "name": "stdout",
     "output_type": "stream",
     "text": [
      "{'learning_rate': 0.1, 'n_estimators': 2000}\n",
      "Wall time: 1min 24s\n"
     ]
    }
   ],
   "source": [
    "%%time\n",
    "\n",
    "# Set the model\n",
    "xgb_model = XGBClassifier( use_label_encoder = False, objective = 'binary:logistic', verbosity = 0 )\n",
    "\n",
    "# Define param grid\n",
    "xgb_param_grid = {\n",
    "    'n_estimators': [ 500, 1000, 2000 ],\n",
    "    'learning_rate': [0.1, 0.5, 1]\n",
    "}\n",
    "\n",
    "# Grid search\n",
    "xgb_search = GridSearchCV( estimator = xgb_model,\n",
    "                           param_grid = xgb_param_grid )\n",
    "\n",
    "# Fit to data\n",
    "xgb_search.fit( x_train, y_train )\n",
    "\n",
    "# Print best params and best score\n",
    "print( xgb_search.best_params_ )"
   ]
  },
  {
   "cell_type": "code",
   "execution_count": 25,
   "id": "c681c5cf-d52d-4255-82d1-9dc56b4d5c32",
   "metadata": {},
   "outputs": [
    {
     "name": "stderr",
     "output_type": "stream",
     "text": [
      "C:\\Anaconda\\lib\\site-packages\\xgboost\\sklearn.py:1224: UserWarning: The use of label encoder in XGBClassifier is deprecated and will be removed in a future release. To remove this warning, do the following: 1) Pass option use_label_encoder=False when constructing XGBClassifier object; and 2) Encode your labels (y) as integers starting with 0, i.e. 0, 1, 2, ..., [num_class - 1].\n",
      "  warnings.warn(label_encoder_deprecation_msg, UserWarning)\n"
     ]
    }
   ],
   "source": [
    "# Train the optimal model\n",
    "xgb_optimal_model = XGBClassifier( objective = 'binary:logistic', \n",
    "                                   verbosity = 0,\n",
    "                                   learning_rate = 0.1, \n",
    "                                   n_estimators = 2000 )\n",
    "xgb_optimal_model.fit( x_train, y_train )\n",
    "\n",
    "# Apply over test set\n",
    "y_xgb_pred = xgb_optimal_model.predict( x_test )\n",
    "\n",
    "# Guardar indicadores\n",
    "accuracy_xgboost = accuracy_score( y_test, y_xgb_pred )\n",
    "log_loss_xgboost = log_loss( y_test, y_xgb_pred )\n",
    "roc_auc_xgboost = roc_auc_score( y_test, y_xgb_pred )"
   ]
  },
  {
   "cell_type": "markdown",
   "id": "2ab0aa62-9a5d-448b-8adb-1c31771d682d",
   "metadata": {},
   "source": [
    "## 7. Resultados"
   ]
  },
  {
   "cell_type": "code",
   "execution_count": 26,
   "id": "ce8e0944-1f1a-419f-9656-60797f436df3",
   "metadata": {},
   "outputs": [
    {
     "data": {
      "text/html": [
       "<div>\n",
       "<style scoped>\n",
       "    .dataframe tbody tr th:only-of-type {\n",
       "        vertical-align: middle;\n",
       "    }\n",
       "\n",
       "    .dataframe tbody tr th {\n",
       "        vertical-align: top;\n",
       "    }\n",
       "\n",
       "    .dataframe thead th {\n",
       "        text-align: right;\n",
       "    }\n",
       "</style>\n",
       "<table border=\"1\" class=\"dataframe\">\n",
       "  <thead>\n",
       "    <tr style=\"text-align: right;\">\n",
       "      <th></th>\n",
       "      <th>Acccuracy_Score</th>\n",
       "      <th>Log_Loss</th>\n",
       "      <th>Roc_Auc</th>\n",
       "    </tr>\n",
       "  </thead>\n",
       "  <tbody>\n",
       "    <tr>\n",
       "      <th>Logistic Regression</th>\n",
       "      <td>0.443</td>\n",
       "      <td>19.237</td>\n",
       "      <td>0.443</td>\n",
       "    </tr>\n",
       "    <tr>\n",
       "      <th>Lasso</th>\n",
       "      <td>0.595</td>\n",
       "      <td>13.991</td>\n",
       "      <td>0.565</td>\n",
       "    </tr>\n",
       "    <tr>\n",
       "      <th>Ridge</th>\n",
       "      <td>0.506</td>\n",
       "      <td>17.051</td>\n",
       "      <td>0.513</td>\n",
       "    </tr>\n",
       "    <tr>\n",
       "      <th>Elastic Net</th>\n",
       "      <td>0.582</td>\n",
       "      <td>14.428</td>\n",
       "      <td>0.579</td>\n",
       "    </tr>\n",
       "    <tr>\n",
       "      <th>Random Forest</th>\n",
       "      <td>0.557</td>\n",
       "      <td>15.302</td>\n",
       "      <td>0.550</td>\n",
       "    </tr>\n",
       "    <tr>\n",
       "      <th>Boosted Trees</th>\n",
       "      <td>0.481</td>\n",
       "      <td>17.925</td>\n",
       "      <td>0.476</td>\n",
       "    </tr>\n",
       "  </tbody>\n",
       "</table>\n",
       "</div>"
      ],
      "text/plain": [
       "                     Acccuracy_Score  Log_Loss  Roc_Auc\n",
       "Logistic Regression            0.443    19.237    0.443\n",
       "Lasso                          0.595    13.991    0.565\n",
       "Ridge                          0.506    17.051    0.513\n",
       "Elastic Net                    0.582    14.428    0.579\n",
       "Random Forest                  0.557    15.302    0.550\n",
       "Boosted Trees                  0.481    17.925    0.476"
      ]
     },
     "execution_count": 26,
     "metadata": {},
     "output_type": "execute_result"
    }
   ],
   "source": [
    "table = np.zeros( (6, 3) )\n",
    "\n",
    "table[ 0 ] = [ accuracy_lg, log_loss_lg, roc_auc_lg ]\n",
    "table[ 1 ] = [ accuracy_lasso, log_loss_lasso, roc_auc_lasso ]\n",
    "table[ 2 ] = [ accuracy_ridge, log_loss_ridge, roc_auc_ridge ]\n",
    "table[ 3 ] = [ accuracy_elasticnet, log_loss_elasticnet, roc_auc_elasticnet ]\n",
    "table[ 4 ] = [ accuracy_random_forest, log_loss_random_forest, roc_auc_random_forest ]\n",
    "table[ 5 ] = [ accuracy_xgboost, log_loss_xgboost, roc_auc_xgboost ]\n",
    "\n",
    "colnames_table = [ \"Acccuracy_Score\", \"Log_Loss\", \"Roc_Auc\" ]\n",
    "rownames_table = [ \"Logistic Regression\", \"Lasso\",\n",
    "                   \"Ridge\", \"Elastic Net\",\n",
    "                   \"Random Forest\", \"Boosted Trees\" ]\n",
    "\n",
    "table_pandas = pd.DataFrame( table, columns = colnames_table )\n",
    "table_pandas.index = rownames_table\n",
    "\n",
    "table_pandas = table_pandas.round(3)\n",
    "table_pandas"
   ]
  },
  {
   "cell_type": "markdown",
   "id": "4c962de8-10c9-4208-bcb9-e281db2df598",
   "metadata": {},
   "source": [
    "## 8. Feature map"
   ]
  },
  {
   "cell_type": "code",
   "execution_count": 27,
   "id": "d79d4718-f9d6-4e25-a93d-1616041b149f",
   "metadata": {},
   "outputs": [
    {
     "data": {
      "text/plain": [
       "c_gru71hd_     0.027523\n",
       "c_gru61hd_     0.024995\n",
       "c_gru31hd_     0.024946\n",
       "c_gru41hd_     0.023363\n",
       "c_gru81hd_     0.021558\n",
       "e_p311b_7_     0.019745\n",
       "e_p311b_1_     0.019128\n",
       "c_gru21hd_     0.019032\n",
       "c_inghog2d_    0.018969\n",
       "e_p311t1_      0.018703\n",
       "dtype: float64"
      ]
     },
     "execution_count": 27,
     "metadata": {},
     "output_type": "execute_result"
    }
   ],
   "source": [
    "# Random Forest\n",
    "fp_randomforest = pd.Series( rf_optimal_model.feature_importances_, index = pred_vars).\\\n",
    "                  sort_values( ascending = False )\n",
    "fp_randomforest.head(10)"
   ]
  },
  {
   "cell_type": "code",
   "execution_count": 28,
   "id": "4d65cbc1-048a-4695-af7e-d08cab66e901",
   "metadata": {},
   "outputs": [
    {
     "data": {
      "text/plain": [
       "e_p314b_7_     0.042951\n",
       "e_p547_        0.039522\n",
       "j_p407g2_      0.037675\n",
       "j_p5112_       0.035886\n",
       "e_p414_09_     0.026080\n",
       "c_insedlhd_    0.026014\n",
       "e_p3121b_      0.023626\n",
       "j_p5111_       0.022729\n",
       "j_p558g5_      0.021999\n",
       "e_p311a5_7_    0.021934\n",
       "dtype: float32"
      ]
     },
     "execution_count": 28,
     "metadata": {},
     "output_type": "execute_result"
    }
   ],
   "source": [
    "# Boosted Trees\n",
    "fp_xgboost = pd.Series( xgb_optimal_model.feature_importances_, index = pred_vars).\\\n",
    "           sort_values( ascending = False )\n",
    "fp_xgboost.head(10)"
   ]
  }
 ],
 "metadata": {
  "kernelspec": {
   "display_name": "Python 3 (ipykernel)",
   "language": "python",
   "name": "python3"
  },
  "language_info": {
   "codemirror_mode": {
    "name": "ipython",
    "version": 3
   },
   "file_extension": ".py",
   "mimetype": "text/x-python",
   "name": "python",
   "nbconvert_exporter": "python",
   "pygments_lexer": "ipython3",
   "version": "3.9.13"
  }
 },
 "nbformat": 4,
 "nbformat_minor": 5
}
