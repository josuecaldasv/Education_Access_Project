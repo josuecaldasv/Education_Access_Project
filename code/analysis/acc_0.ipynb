{
 "cells": [
  {
   "cell_type": "markdown",
   "id": "e98a1274-9814-409e-8cb3-3c9b4c2b471e",
   "metadata": {},
   "source": [
    "# Variable dependiente: Acceso a Educación Superior (multiclase)"
   ]
  },
  {
   "cell_type": "markdown",
   "id": "43cfe17b-a071-429c-a9e9-923553bbcbe8",
   "metadata": {},
   "source": [
    "## 1. Cargar data"
   ]
  },
  {
   "cell_type": "code",
   "execution_count": 1,
   "id": "cf959e29-16d4-4f37-98ac-0b57c20fc74d",
   "metadata": {},
   "outputs": [],
   "source": [
    "import warnings\n",
    "warnings.filterwarnings('ignore')"
   ]
  },
  {
   "cell_type": "code",
   "execution_count": 2,
   "id": "1b583b68-8f4e-466b-844d-630fe3555b01",
   "metadata": {},
   "outputs": [],
   "source": [
    "import pandas as  pd, numpy as np\n",
    "import variables as vb"
   ]
  },
  {
   "cell_type": "code",
   "execution_count": 3,
   "id": "6665f120-017c-4d00-8dcd-da5330d9a967",
   "metadata": {},
   "outputs": [],
   "source": [
    "# Cargar datos\n",
    "path = r'..\\..\\output\\data_preprocess\\dfs_0_acc.csv'\n",
    "data_original = pd.read_csv( path )"
   ]
  },
  {
   "cell_type": "code",
   "execution_count": 4,
   "id": "a79fb074-b2bd-4736-b3cd-05daa7b632f5",
   "metadata": {},
   "outputs": [
    {
     "data": {
      "text/plain": [
       "(875, 396)"
      ]
     },
     "execution_count": 4,
     "metadata": {},
     "output_type": "execute_result"
    }
   ],
   "source": [
    "data_original.shape"
   ]
  },
  {
   "cell_type": "markdown",
   "id": "c525ca70-d8c4-4126-84a1-8324405b16a9",
   "metadata": {},
   "source": [
    "## 2. Scale only numeric vars"
   ]
  },
  {
   "cell_type": "code",
   "execution_count": 5,
   "id": "f07cf93b-62d1-4d88-852d-894427a7b65c",
   "metadata": {},
   "outputs": [],
   "source": [
    "# https://stackoverflow.com/questions/38420847/apply-standardscaler-to-parts-of-a-data-set\n",
    "\n",
    "from sklearn.preprocessing import StandardScaler\n",
    "\n",
    "data = data_original.copy()\n",
    "\n",
    "numeric_vars = [col for col in data.columns if col in vb.num_vars ]\n",
    "\n",
    "cols = data[ numeric_vars ]\n",
    "scaler = StandardScaler().fit( cols.values )\n",
    "cols = scaler.transform( cols.values )\n",
    "\n",
    "data[ numeric_vars ] = cols"
   ]
  },
  {
   "cell_type": "markdown",
   "id": "b1263fa6-88d2-4a2a-bb06-a152ac553526",
   "metadata": {},
   "source": [
    "## 3. Split variables"
   ]
  },
  {
   "cell_type": "code",
   "execution_count": 6,
   "id": "b7e61c9b-26c2-4354-aab7-c4bfe3b74a7c",
   "metadata": {},
   "outputs": [],
   "source": [
    "from sklearn.model_selection import train_test_split"
   ]
  },
  {
   "cell_type": "code",
   "execution_count": 7,
   "id": "8c6682b5-2e49-45b3-9135-63e227fa4902",
   "metadata": {},
   "outputs": [],
   "source": [
    "data[ 'e_acceso' ] = data[ 'e_acceso' ].replace([1.0], 0.0)\n",
    "data[ 'e_acceso' ] = data[ 'e_acceso' ].replace([2.0], 1.0)\n",
    "data[ 'e_acceso' ] = data[ 'e_acceso' ].replace([3.0], 2.0)"
   ]
  },
  {
   "cell_type": "code",
   "execution_count": 8,
   "id": "49ab103d-51b6-4460-8f27-28432cbd6f1c",
   "metadata": {},
   "outputs": [
    {
     "data": {
      "text/plain": [
       "0.0    469\n",
       "2.0    245\n",
       "1.0    161\n",
       "Name: e_acceso, dtype: int64"
      ]
     },
     "execution_count": 8,
     "metadata": {},
     "output_type": "execute_result"
    }
   ],
   "source": [
    "data[ 'e_acceso' ].value_counts()"
   ]
  },
  {
   "cell_type": "code",
   "execution_count": 9,
   "id": "5565dfa2-2bff-4e16-803d-8b074c34666d",
   "metadata": {},
   "outputs": [],
   "source": [
    "dep_var = [ 'e_acceso' ]\n",
    "pred_vars = [col for col in data.columns if col not in vb.dep_vars and col not in dep_var ]\n",
    "x_train, x_test, y_train, y_test = train_test_split( data[ pred_vars ], data[ 'e_acceso' ], test_size = 0.20 )"
   ]
  },
  {
   "cell_type": "markdown",
   "id": "de2cb7c5-715f-4048-af70-b652d907e293",
   "metadata": {},
   "source": [
    "## 4. Logistic Regression"
   ]
  },
  {
   "cell_type": "code",
   "execution_count": 10,
   "id": "83677032-531a-4b21-9153-c17b62ee9bed",
   "metadata": {},
   "outputs": [],
   "source": [
    "from sklearn.linear_model import LogisticRegression\n",
    "from sklearn.metrics import accuracy_score, confusion_matrix, log_loss, roc_auc_score, f1_score\n",
    "from sklearn.metrics import classification_report"
   ]
  },
  {
   "cell_type": "code",
   "execution_count": 11,
   "id": "6117c115-3dfd-4c75-a102-44cc92510a58",
   "metadata": {
    "tags": []
   },
   "outputs": [
    {
     "name": "stdout",
     "output_type": "stream",
     "text": [
      "Wall time: 517 ms\n"
     ]
    }
   ],
   "source": [
    "%%time\n",
    "\n",
    "# Implementing the model\n",
    "lg_model = LogisticRegression( max_iter = 10000, multi_class='multinomial' ).fit( x_train, y_train )\n",
    "\n",
    "# Predict over test set\n",
    "y_lg_pred_class = lg_model.predict( x_test )\n",
    "y_lg_pred_prob = lg_model.predict_proba( x_test )"
   ]
  },
  {
   "cell_type": "code",
   "execution_count": 12,
   "id": "66c114d3-eda4-4424-a305-8cb1e57b5f59",
   "metadata": {},
   "outputs": [],
   "source": [
    "# Calculating metrics\n",
    "columns = [ 'no', 'tec', 'uni' ]\n",
    "lg_report = classification_report(y_test, y_lg_pred_class, target_names = columns, output_dict = True )\n",
    "\n",
    "lg_no_precision = lg_report[ 'no' ][ 'precision' ]\n",
    "lg_no_recall = lg_report[ 'no' ][ 'recall' ]\n",
    "lg_no_f1_score = lg_report[ 'no' ][ 'f1-score' ]\n",
    "\n",
    "lg_tec_precision = lg_report[ 'tec' ][ 'precision' ]\n",
    "lg_tec_recall = lg_report[ 'tec' ][ 'recall' ]\n",
    "lg_tec_f1_score = lg_report[ 'tec' ][ 'f1-score' ]\n",
    "\n",
    "lg_uni_precision = lg_report[ 'uni' ][ 'precision' ]\n",
    "lg_uni_recall = lg_report[ 'uni' ][ 'recall' ]\n",
    "lg_uni_f1_score = lg_report[ 'uni' ][ 'f1-score' ]\n",
    "\n",
    "accuracy_lg = accuracy_score( y_test, y_lg_pred_class )\n",
    "roc_auc_lg = roc_auc_score( y_test, y_lg_pred_prob, multi_class = \"ovr\", average = \"weighted\" )"
   ]
  },
  {
   "cell_type": "code",
   "execution_count": 13,
   "id": "7d7a80ea-63cb-4222-ac49-3dadab6834fd",
   "metadata": {},
   "outputs": [
    {
     "name": "stdout",
     "output_type": "stream",
     "text": [
      "              precision    recall  f1-score   support\n",
      "\n",
      "          no       0.51      0.51      0.51        86\n",
      "         tec       0.18      0.22      0.20        27\n",
      "         uni       0.43      0.37      0.40        62\n",
      "\n",
      "    accuracy                           0.42       175\n",
      "   macro avg       0.37      0.37      0.37       175\n",
      "weighted avg       0.43      0.42      0.42       175\n",
      "\n"
     ]
    }
   ],
   "source": [
    "print( classification_report(y_test, y_lg_pred_class, target_names = columns ) )"
   ]
  },
  {
   "cell_type": "markdown",
   "id": "9da0d6a8-d3d9-4736-9fbf-744edf2a7074",
   "metadata": {},
   "source": [
    "Info:\n",
    "\n",
    "* About meaning for each indicator: https://towardsdatascience.com/comprehensive-guide-to-multiclass-classification-with-sklearn-127cc500f362\n",
    "* Also that link states that ovr is a better indicator"
   ]
  },
  {
   "cell_type": "markdown",
   "id": "885e8e6c-296d-487d-b825-96e17ea9b508",
   "metadata": {},
   "source": [
    "## 5. Regularization Methods (Lasso, Ridge and Elastic Net)"
   ]
  },
  {
   "cell_type": "code",
   "execution_count": 14,
   "id": "f6a37572-c609-4465-891a-391ad18b79b0",
   "metadata": {},
   "outputs": [],
   "source": [
    "from sklearn.linear_model import LogisticRegressionCV\n",
    "from sklearn.model_selection import GridSearchCV"
   ]
  },
  {
   "cell_type": "markdown",
   "id": "29747e4f-e0c6-4285-92f0-9214ca63883a",
   "metadata": {},
   "source": [
    "## 5.1. Lasso"
   ]
  },
  {
   "cell_type": "code",
   "execution_count": 15,
   "id": "df3ebdba-1439-4038-a96a-7cb0b137febd",
   "metadata": {
    "tags": []
   },
   "outputs": [
    {
     "name": "stdout",
     "output_type": "stream",
     "text": [
      "Wall time: 13min 9s\n"
     ]
    }
   ],
   "source": [
    "%%time\n",
    "\n",
    "# Implementing the model\n",
    "lasso_model = LogisticRegressionCV( penalty = 'l1', solver = 'saga', cv = 10, random_state = 0, max_iter = 10000 ).\\\n",
    "                               fit( x_train, y_train )\n",
    "\n",
    "# Predict over test set\n",
    "y_lasso_pred_class = lasso_model.predict( x_test )\n",
    "y_lasso_pred_prob = lasso_model.predict_proba( x_test )"
   ]
  },
  {
   "cell_type": "code",
   "execution_count": 16,
   "id": "9bc99c0f-6174-4d15-86f2-622a321e142a",
   "metadata": {
    "tags": []
   },
   "outputs": [],
   "source": [
    "# Calculating metrics\n",
    "columns = [ 'no', 'tec', 'uni' ]\n",
    "lasso_report = classification_report( y_test, y_lasso_pred_class, target_names = columns, output_dict = True )\n",
    "\n",
    "lasso_no_precision = lasso_report[ 'no' ][ 'precision' ]\n",
    "lasso_no_recall = lasso_report[ 'no' ][ 'recall' ]\n",
    "lasso_no_f1_score = lasso_report[ 'no' ][ 'f1-score' ]\n",
    "\n",
    "lasso_tec_precision = lasso_report[ 'tec' ][ 'precision' ]\n",
    "lasso_tec_recall = lasso_report[ 'tec' ][ 'recall' ]\n",
    "lasso_tec_f1_score = lasso_report[ 'tec' ][ 'f1-score' ]\n",
    "\n",
    "lasso_uni_precision = lasso_report[ 'uni' ][ 'precision' ]\n",
    "lasso_uni_recall = lasso_report[ 'uni' ][ 'recall' ]\n",
    "lasso_uni_f1_score = lasso_report[ 'uni' ][ 'f1-score' ]\n",
    "\n",
    "accuracy_lasso = accuracy_score( y_test, y_lasso_pred_class )\n",
    "roc_auc_lasso = roc_auc_score( y_test, y_lasso_pred_prob, multi_class = \"ovr\", average = \"weighted\" )"
   ]
  },
  {
   "cell_type": "code",
   "execution_count": 17,
   "id": "5c788183-7bf2-445d-9947-958814378314",
   "metadata": {},
   "outputs": [
    {
     "name": "stdout",
     "output_type": "stream",
     "text": [
      "              precision    recall  f1-score   support\n",
      "\n",
      "          no       0.54      0.91      0.68        86\n",
      "         tec       0.00      0.00      0.00        27\n",
      "         uni       0.67      0.32      0.43        62\n",
      "\n",
      "    accuracy                           0.56       175\n",
      "   macro avg       0.40      0.41      0.37       175\n",
      "weighted avg       0.50      0.56      0.49       175\n",
      "\n"
     ]
    }
   ],
   "source": [
    "print( classification_report( y_test, y_lasso_pred_class, target_names = columns ) )"
   ]
  },
  {
   "cell_type": "markdown",
   "id": "f70c1068-7da4-47cc-a7c9-e850d09b3061",
   "metadata": {},
   "source": [
    "## 5.2. Ridge"
   ]
  },
  {
   "cell_type": "code",
   "execution_count": 18,
   "id": "19731d93-b3d3-42b9-b063-d95fd2d800b7",
   "metadata": {
    "tags": []
   },
   "outputs": [
    {
     "name": "stdout",
     "output_type": "stream",
     "text": [
      "Wall time: 10min 53s\n"
     ]
    }
   ],
   "source": [
    "%%time\n",
    "\n",
    "# Implementing the model\n",
    "ridge_model = LogisticRegressionCV( penalty = 'l2', solver = 'saga', cv = 10, random_state = 0, max_iter = 10000 ).\\\n",
    "                               fit( x_train, y_train )\n",
    "\n",
    "# Predict over test set\n",
    "y_ridge_pred_class = ridge_model.predict( x_test )\n",
    "y_ridge_pred_prob = ridge_model.predict_proba( x_test )"
   ]
  },
  {
   "cell_type": "code",
   "execution_count": 19,
   "id": "ad76d918-96f4-47ec-b8b8-474a4e831726",
   "metadata": {
    "tags": []
   },
   "outputs": [],
   "source": [
    "# Calculating metrics\n",
    "columns = [ 'no', 'tec', 'uni' ]\n",
    "ridge_report = classification_report( y_test, y_ridge_pred_class, target_names = columns, output_dict = True )\n",
    "\n",
    "ridge_no_precision = ridge_report[ 'no' ][ 'precision' ]\n",
    "ridge_no_recall = ridge_report[ 'no' ][ 'recall' ]\n",
    "ridge_no_f1_score = ridge_report[ 'no' ][ 'f1-score' ]\n",
    "\n",
    "ridge_tec_precision = ridge_report[ 'tec' ][ 'precision' ]\n",
    "ridge_tec_recall = ridge_report[ 'tec' ][ 'recall' ]\n",
    "ridge_tec_f1_score = ridge_report[ 'tec' ][ 'f1-score' ]\n",
    "\n",
    "ridge_uni_precision = ridge_report[ 'uni' ][ 'precision' ]\n",
    "ridge_uni_recall = ridge_report[ 'uni' ][ 'recall' ]\n",
    "ridge_uni_f1_score = ridge_report[ 'uni' ][ 'f1-score' ]\n",
    "\n",
    "accuracy_ridge = accuracy_score( y_test, y_ridge_pred_class )\n",
    "roc_auc_ridge = roc_auc_score( y_test, y_ridge_pred_prob, multi_class = \"ovr\", average = \"weighted\" )"
   ]
  },
  {
   "cell_type": "code",
   "execution_count": 20,
   "id": "76871426-ec3e-4173-b7f6-d8baec7e8b3a",
   "metadata": {},
   "outputs": [
    {
     "name": "stdout",
     "output_type": "stream",
     "text": [
      "              precision    recall  f1-score   support\n",
      "\n",
      "          no       0.52      0.90      0.66        86\n",
      "         tec       0.00      0.00      0.00        27\n",
      "         uni       0.62      0.26      0.36        62\n",
      "\n",
      "    accuracy                           0.53       175\n",
      "   macro avg       0.38      0.38      0.34       175\n",
      "weighted avg       0.47      0.53      0.45       175\n",
      "\n"
     ]
    }
   ],
   "source": [
    "print( classification_report( y_test, y_ridge_pred_class, target_names = columns ) )"
   ]
  },
  {
   "cell_type": "markdown",
   "id": "8d4d9a47-fe13-43e3-a75a-36846ba6ca27",
   "metadata": {},
   "source": [
    "### 5.3. Elastic Net"
   ]
  },
  {
   "cell_type": "code",
   "execution_count": 21,
   "id": "cfbb34f0-6341-42cf-8f87-b793ef9596a8",
   "metadata": {},
   "outputs": [
    {
     "name": "stdout",
     "output_type": "stream",
     "text": [
      "Wall time: 27min 25s\n"
     ]
    }
   ],
   "source": [
    "%%time\n",
    "\n",
    "# Implementing the model\n",
    "elasticnet_model = LogisticRegressionCV( penalty = 'elasticnet', solver = 'saga', cv = 10, random_state = 0, l1_ratios = [ 0.5 ], max_iter = 10000 ).\\\n",
    "                                    fit( x_train, y_train )\n",
    "\n",
    "# Predict over test set\n",
    "y_elasticnet_pred_class = elasticnet_model.predict( x_test )\n",
    "y_elasticnet_pred_prob = elasticnet_model.predict_proba( x_test )"
   ]
  },
  {
   "cell_type": "code",
   "execution_count": 22,
   "id": "59b31756-cde3-433e-a750-8c980f8e1f2d",
   "metadata": {
    "tags": []
   },
   "outputs": [],
   "source": [
    "# Calculating metrics\n",
    "columns = [ 'no', 'tec', 'uni' ]\n",
    "elasticnet_report = classification_report( y_test, y_elasticnet_pred_class, target_names = columns, output_dict = True )\n",
    "\n",
    "elasticnet_no_precision = elasticnet_report[ 'no' ][ 'precision' ]\n",
    "elasticnet_no_recall = elasticnet_report[ 'no' ][ 'recall' ]\n",
    "elasticnet_no_f1_score = elasticnet_report[ 'no' ][ 'f1-score' ]\n",
    "\n",
    "elasticnet_tec_precision = elasticnet_report[ 'tec' ][ 'precision' ]\n",
    "elasticnet_tec_recall = elasticnet_report[ 'tec' ][ 'recall' ]\n",
    "elasticnet_tec_f1_score = elasticnet_report[ 'tec' ][ 'f1-score' ]\n",
    "\n",
    "elasticnet_uni_precision = elasticnet_report[ 'uni' ][ 'precision' ]\n",
    "elasticnet_uni_recall = elasticnet_report[ 'uni' ][ 'recall' ]\n",
    "elasticnet_uni_f1_score = elasticnet_report[ 'uni' ][ 'f1-score' ]\n",
    "\n",
    "accuracy_elasticnet = accuracy_score( y_test, y_elasticnet_pred_class )\n",
    "roc_auc_elasticnet = roc_auc_score( y_test, y_elasticnet_pred_prob, multi_class = \"ovr\", average = \"weighted\" )"
   ]
  },
  {
   "cell_type": "code",
   "execution_count": 23,
   "id": "df9de69d-89b0-4d56-b5d9-a439bcbe369c",
   "metadata": {},
   "outputs": [
    {
     "name": "stdout",
     "output_type": "stream",
     "text": [
      "              precision    recall  f1-score   support\n",
      "\n",
      "          no       0.51      0.94      0.66        86\n",
      "         tec       0.00      0.00      0.00        27\n",
      "         uni       0.60      0.15      0.23        62\n",
      "\n",
      "    accuracy                           0.51       175\n",
      "   macro avg       0.37      0.36      0.30       175\n",
      "weighted avg       0.46      0.51      0.41       175\n",
      "\n"
     ]
    }
   ],
   "source": [
    "print( classification_report( y_test, y_elasticnet_pred_class, target_names = columns ) )"
   ]
  },
  {
   "cell_type": "markdown",
   "id": "cefe3bc6-56e5-47f6-97e5-06d72c55ad6f",
   "metadata": {},
   "source": [
    "## 6. Random Forest"
   ]
  },
  {
   "cell_type": "code",
   "execution_count": 24,
   "id": "ef9ae7e1-b000-4fac-abb5-e8e32c28488e",
   "metadata": {},
   "outputs": [],
   "source": [
    "from sklearn.ensemble import RandomForestClassifier\n",
    "from sklearn.model_selection import GridSearchCV"
   ]
  },
  {
   "cell_type": "code",
   "execution_count": 25,
   "id": "03fa0a5c-ab3c-41ea-9fc6-fae13f3b42dd",
   "metadata": {},
   "outputs": [
    {
     "name": "stdout",
     "output_type": "stream",
     "text": [
      "{'max_features': 'auto', 'n_estimators': 1000}\n",
      "Wall time: 5min 24s\n"
     ]
    }
   ],
   "source": [
    "%%time\n",
    "\n",
    "# Set the model\n",
    "rf_model = RandomForestClassifier( random_state = 0 )\n",
    "\n",
    "# Define param grid\n",
    "rf_param_grid = {\n",
    "    'n_estimators': [ 500, 1000, 2000 ],\n",
    "    'max_features': [ 'auto', 'sqrt', 'log2' ]\n",
    "}\n",
    "\n",
    "# Grid search\n",
    "rf_search = GridSearchCV( estimator = rf_model,\n",
    "                          param_grid = rf_param_grid )\n",
    "\n",
    "# Fit to data\n",
    "rf_search.fit( x_train, y_train )\n",
    "\n",
    "# Print best params and best score\n",
    "print( rf_search.best_params_ )\n",
    "\n",
    "# Select best params\n",
    "rf_max_features = rf_search.best_params_[ 'max_features' ] \n",
    "rf_n_estimators = rf_search.best_params_[ 'n_estimators' ] "
   ]
  },
  {
   "cell_type": "code",
   "execution_count": 26,
   "id": "79dcabe0-c7bd-451f-96ba-62113f3618bd",
   "metadata": {},
   "outputs": [],
   "source": [
    "# Train the optimal model\n",
    "rf_optimal_model = RandomForestClassifier( max_features = rf_max_features, \n",
    "                                           n_estimators = rf_n_estimators )\n",
    "rf_optimal_model.fit( x_train, y_train )\n",
    "\n",
    "# Apply over test set\n",
    "y_rf_pred = rf_optimal_model.predict( x_test )\n",
    "\n",
    "# Predict over test set\n",
    "y_rf_pred_class = rf_optimal_model.predict( x_test )\n",
    "y_rf_pred_prob = rf_optimal_model.predict_proba( x_test )"
   ]
  },
  {
   "cell_type": "code",
   "execution_count": 27,
   "id": "025620b1-b812-431a-82a8-63f5c6633792",
   "metadata": {},
   "outputs": [],
   "source": [
    "# Calculating metrics\n",
    "columns = [ 'no', 'tec', 'uni' ]\n",
    "rf_report = classification_report(y_test, y_rf_pred_class, target_names = columns, output_dict = True )\n",
    "\n",
    "rf_no_precision = rf_report[ 'no' ][ 'precision' ]\n",
    "rf_no_recall = rf_report[ 'no' ][ 'recall' ]\n",
    "rf_no_f1_score = rf_report[ 'no' ][ 'f1-score' ]\n",
    "\n",
    "rf_tec_precision = rf_report[ 'tec' ][ 'precision' ]\n",
    "rf_tec_recall = rf_report[ 'tec' ][ 'recall' ]\n",
    "rf_tec_f1_score = rf_report[ 'tec' ][ 'f1-score' ]\n",
    "\n",
    "rf_uni_precision = rf_report[ 'uni' ][ 'precision' ]\n",
    "rf_uni_recall = rf_report[ 'uni' ][ 'recall' ]\n",
    "rf_uni_f1_score = rf_report[ 'uni' ][ 'f1-score' ]\n",
    "\n",
    "accuracy_rf = accuracy_score( y_test, y_rf_pred_class )\n",
    "roc_auc_rf = roc_auc_score( y_test, y_rf_pred_prob, multi_class = \"ovr\", average = \"weighted\" )"
   ]
  },
  {
   "cell_type": "code",
   "execution_count": 28,
   "id": "1a2fea78-5287-4b07-81a7-f62d076bc0e9",
   "metadata": {},
   "outputs": [
    {
     "name": "stdout",
     "output_type": "stream",
     "text": [
      "              precision    recall  f1-score   support\n",
      "\n",
      "          no       0.53      0.88      0.66        86\n",
      "         tec       0.00      0.00      0.00        27\n",
      "         uni       0.64      0.29      0.40        62\n",
      "\n",
      "    accuracy                           0.54       175\n",
      "   macro avg       0.39      0.39      0.35       175\n",
      "weighted avg       0.49      0.54      0.47       175\n",
      "\n"
     ]
    }
   ],
   "source": [
    "print( classification_report( y_test, y_rf_pred_class, target_names = columns ) )"
   ]
  },
  {
   "cell_type": "markdown",
   "id": "026f6749-f136-4af6-bc6d-1e74f5b545fe",
   "metadata": {},
   "source": [
    "## 7. Boosted Trees"
   ]
  },
  {
   "cell_type": "code",
   "execution_count": 29,
   "id": "a5ab6514-d4b1-4269-80c4-aac63934946c",
   "metadata": {
    "tags": []
   },
   "outputs": [],
   "source": [
    "from xgboost import XGBClassifier"
   ]
  },
  {
   "cell_type": "code",
   "execution_count": 30,
   "id": "ec17151f-0cd5-4b8f-a650-e913b3078648",
   "metadata": {
    "tags": []
   },
   "outputs": [
    {
     "name": "stdout",
     "output_type": "stream",
     "text": [
      "{'learning_rate': 0.5, 'n_estimators': 500}\n",
      "Wall time: 8min 54s\n"
     ]
    }
   ],
   "source": [
    "%%time\n",
    "\n",
    "# Set the model\n",
    "xgb_model = XGBClassifier( use_label_encoder = False, objective = 'multi:softmax', verbosity = 0, num_class = 3 )\n",
    "\n",
    "# Define param grid\n",
    "xgb_param_grid = {\n",
    "    'n_estimators': [ 500, 1000, 2000 ],\n",
    "    'learning_rate': [0.1, 0.5, 1]\n",
    "}\n",
    "\n",
    "# Grid search\n",
    "xgb_search = GridSearchCV( estimator = xgb_model,\n",
    "                           param_grid = xgb_param_grid )\n",
    "\n",
    "# Fit to data\n",
    "xgb_search.fit( x_train, y_train )\n",
    "\n",
    "# Print best params and best score\n",
    "print( xgb_search.best_params_ )\n",
    "\n",
    "# Select best params\n",
    "xgb_learning_rate = xgb_search.best_params_[ 'learning_rate' ] \n",
    "xgb_n_estimators = xgb_search.best_params_[ 'n_estimators' ] "
   ]
  },
  {
   "cell_type": "code",
   "execution_count": 31,
   "id": "c681c5cf-d52d-4255-82d1-9dc56b4d5c32",
   "metadata": {},
   "outputs": [],
   "source": [
    "# Train the optimal model\n",
    "xgb_optimal_model = XGBClassifier( objective = 'multi:softmax', \n",
    "                                   verbosity = 0,\n",
    "                                   learning_rate = xgb_learning_rate, \n",
    "                                   n_estimators = xgb_n_estimators, \n",
    "                                   num_class = 3)\n",
    "xgb_optimal_model.fit( x_train, y_train )\n",
    "\n",
    "# Predict over test set\n",
    "y_xgb_pred_class = xgb_optimal_model.predict( x_test )\n",
    "y_xgb_pred_prob = xgb_optimal_model.predict_proba( x_test )"
   ]
  },
  {
   "cell_type": "code",
   "execution_count": 32,
   "id": "40aaa57c-ca2c-4ab9-ba23-7048ee344628",
   "metadata": {},
   "outputs": [],
   "source": [
    "# Calculating metrics\n",
    "columns = [ 'no', 'tec', 'uni' ]\n",
    "xgb_report = classification_report(y_test, y_xgb_pred_class, target_names = columns, output_dict = True )\n",
    "\n",
    "xgb_no_precision = xgb_report[ 'no' ][ 'precision' ]\n",
    "xgb_no_recall = xgb_report[ 'no' ][ 'recall' ]\n",
    "xgb_no_f1_score = xgb_report[ 'no' ][ 'f1-score' ]\n",
    "\n",
    "xgb_tec_precision = xgb_report[ 'tec' ][ 'precision' ]\n",
    "xgb_tec_recall = xgb_report[ 'tec' ][ 'recall' ]\n",
    "xgb_tec_f1_score = xgb_report[ 'tec' ][ 'f1-score' ]\n",
    "\n",
    "xgb_uni_precision = xgb_report[ 'uni' ][ 'precision' ]\n",
    "xgb_uni_recall = xgb_report[ 'uni' ][ 'recall' ]\n",
    "xgb_uni_f1_score = xgb_report[ 'uni' ][ 'f1-score' ]\n",
    "\n",
    "accuracy_xgb = accuracy_score( y_test, y_xgb_pred_class )\n",
    "roc_auc_xgb = roc_auc_score( y_test, y_xgb_pred_prob, multi_class = \"ovr\", average = \"weighted\" )"
   ]
  },
  {
   "cell_type": "markdown",
   "id": "2ab0aa62-9a5d-448b-8adb-1c31771d682d",
   "metadata": {},
   "source": [
    "## 7. Resultados"
   ]
  },
  {
   "cell_type": "code",
   "execution_count": 33,
   "id": "6b911aeb-49fc-4d96-a40f-bc7ef215fd9e",
   "metadata": {},
   "outputs": [
    {
     "data": {
      "text/html": [
       "<div>\n",
       "<style scoped>\n",
       "    .dataframe tbody tr th:only-of-type {\n",
       "        vertical-align: middle;\n",
       "    }\n",
       "\n",
       "    .dataframe tbody tr th {\n",
       "        vertical-align: top;\n",
       "    }\n",
       "\n",
       "    .dataframe thead th {\n",
       "        text-align: right;\n",
       "    }\n",
       "</style>\n",
       "<table border=\"1\" class=\"dataframe\">\n",
       "  <thead>\n",
       "    <tr style=\"text-align: right;\">\n",
       "      <th></th>\n",
       "      <th>Overall_Accuracy</th>\n",
       "      <th>Roc_Auc</th>\n",
       "      <th>Ninguna_Precision</th>\n",
       "      <th>Ninguna_Recall</th>\n",
       "      <th>Ninguna_F1_Score</th>\n",
       "      <th>Tec_Precision</th>\n",
       "      <th>Tec_Recall</th>\n",
       "      <th>Tec_F1_Score</th>\n",
       "      <th>Uni_Precision</th>\n",
       "      <th>Uni_Recall</th>\n",
       "      <th>Uni_F1_Dcore</th>\n",
       "    </tr>\n",
       "  </thead>\n",
       "  <tbody>\n",
       "    <tr>\n",
       "      <th>Logistic Regression</th>\n",
       "      <td>0.417</td>\n",
       "      <td>0.565</td>\n",
       "      <td>0.506</td>\n",
       "      <td>0.512</td>\n",
       "      <td>0.509</td>\n",
       "      <td>0.176</td>\n",
       "      <td>0.222</td>\n",
       "      <td>0.197</td>\n",
       "      <td>0.426</td>\n",
       "      <td>0.371</td>\n",
       "      <td>0.397</td>\n",
       "    </tr>\n",
       "    <tr>\n",
       "      <th>Lasso</th>\n",
       "      <td>0.560</td>\n",
       "      <td>0.605</td>\n",
       "      <td>0.538</td>\n",
       "      <td>0.907</td>\n",
       "      <td>0.675</td>\n",
       "      <td>0.000</td>\n",
       "      <td>0.000</td>\n",
       "      <td>0.000</td>\n",
       "      <td>0.667</td>\n",
       "      <td>0.323</td>\n",
       "      <td>0.435</td>\n",
       "    </tr>\n",
       "    <tr>\n",
       "      <th>Ridge</th>\n",
       "      <td>0.531</td>\n",
       "      <td>0.607</td>\n",
       "      <td>0.517</td>\n",
       "      <td>0.895</td>\n",
       "      <td>0.655</td>\n",
       "      <td>0.000</td>\n",
       "      <td>0.000</td>\n",
       "      <td>0.000</td>\n",
       "      <td>0.615</td>\n",
       "      <td>0.258</td>\n",
       "      <td>0.364</td>\n",
       "    </tr>\n",
       "    <tr>\n",
       "      <th>Elastic Net</th>\n",
       "      <td>0.514</td>\n",
       "      <td>0.624</td>\n",
       "      <td>0.506</td>\n",
       "      <td>0.942</td>\n",
       "      <td>0.659</td>\n",
       "      <td>0.000</td>\n",
       "      <td>0.000</td>\n",
       "      <td>0.000</td>\n",
       "      <td>0.600</td>\n",
       "      <td>0.145</td>\n",
       "      <td>0.234</td>\n",
       "    </tr>\n",
       "    <tr>\n",
       "      <th>Random Forest</th>\n",
       "      <td>0.537</td>\n",
       "      <td>0.625</td>\n",
       "      <td>0.528</td>\n",
       "      <td>0.884</td>\n",
       "      <td>0.661</td>\n",
       "      <td>0.000</td>\n",
       "      <td>0.000</td>\n",
       "      <td>0.000</td>\n",
       "      <td>0.643</td>\n",
       "      <td>0.290</td>\n",
       "      <td>0.400</td>\n",
       "    </tr>\n",
       "    <tr>\n",
       "      <th>Boosted Trees</th>\n",
       "      <td>0.497</td>\n",
       "      <td>0.594</td>\n",
       "      <td>0.530</td>\n",
       "      <td>0.721</td>\n",
       "      <td>0.611</td>\n",
       "      <td>0.125</td>\n",
       "      <td>0.074</td>\n",
       "      <td>0.093</td>\n",
       "      <td>0.548</td>\n",
       "      <td>0.371</td>\n",
       "      <td>0.442</td>\n",
       "    </tr>\n",
       "  </tbody>\n",
       "</table>\n",
       "</div>"
      ],
      "text/plain": [
       "                     Overall_Accuracy  Roc_Auc  Ninguna_Precision  \\\n",
       "Logistic Regression             0.417    0.565              0.506   \n",
       "Lasso                           0.560    0.605              0.538   \n",
       "Ridge                           0.531    0.607              0.517   \n",
       "Elastic Net                     0.514    0.624              0.506   \n",
       "Random Forest                   0.537    0.625              0.528   \n",
       "Boosted Trees                   0.497    0.594              0.530   \n",
       "\n",
       "                     Ninguna_Recall  Ninguna_F1_Score  Tec_Precision  \\\n",
       "Logistic Regression           0.512             0.509          0.176   \n",
       "Lasso                         0.907             0.675          0.000   \n",
       "Ridge                         0.895             0.655          0.000   \n",
       "Elastic Net                   0.942             0.659          0.000   \n",
       "Random Forest                 0.884             0.661          0.000   \n",
       "Boosted Trees                 0.721             0.611          0.125   \n",
       "\n",
       "                     Tec_Recall  Tec_F1_Score  Uni_Precision  Uni_Recall  \\\n",
       "Logistic Regression       0.222         0.197          0.426       0.371   \n",
       "Lasso                     0.000         0.000          0.667       0.323   \n",
       "Ridge                     0.000         0.000          0.615       0.258   \n",
       "Elastic Net               0.000         0.000          0.600       0.145   \n",
       "Random Forest             0.000         0.000          0.643       0.290   \n",
       "Boosted Trees             0.074         0.093          0.548       0.371   \n",
       "\n",
       "                     Uni_F1_Dcore  \n",
       "Logistic Regression         0.397  \n",
       "Lasso                       0.435  \n",
       "Ridge                       0.364  \n",
       "Elastic Net                 0.234  \n",
       "Random Forest               0.400  \n",
       "Boosted Trees               0.442  "
      ]
     },
     "execution_count": 33,
     "metadata": {},
     "output_type": "execute_result"
    }
   ],
   "source": [
    "table = np.zeros( ( 6, 11 ) )\n",
    "\n",
    "table[ 0 ] = [ accuracy_lg, roc_auc_lg, lg_no_precision, lg_no_recall, \n",
    "               lg_no_f1_score, lg_tec_precision, lg_tec_recall, lg_tec_f1_score,\n",
    "               lg_uni_precision, lg_uni_recall, lg_uni_f1_score ]\n",
    "\n",
    "table[ 1 ] = [ accuracy_lasso, roc_auc_lasso, lasso_no_precision, lasso_no_recall, \n",
    "               lasso_no_f1_score, lasso_tec_precision, lasso_tec_recall, lasso_tec_f1_score,\n",
    "               lasso_uni_precision, lasso_uni_recall, lasso_uni_f1_score ]\n",
    "\n",
    "table[ 2 ] = [ accuracy_ridge, roc_auc_ridge, ridge_no_precision, ridge_no_recall, \n",
    "               ridge_no_f1_score, ridge_tec_precision, ridge_tec_recall, ridge_tec_f1_score,\n",
    "               ridge_uni_precision, ridge_uni_recall, ridge_uni_f1_score ]\n",
    "\n",
    "table[ 3 ] = [ accuracy_elasticnet, roc_auc_elasticnet, elasticnet_no_precision, elasticnet_no_recall, \n",
    "               elasticnet_no_f1_score, elasticnet_tec_precision, elasticnet_tec_recall, elasticnet_tec_f1_score,\n",
    "               elasticnet_uni_precision, elasticnet_uni_recall, elasticnet_uni_f1_score ]\n",
    "\n",
    "table[ 4 ] = [ accuracy_rf, roc_auc_rf, rf_no_precision, rf_no_recall, \n",
    "               rf_no_f1_score, rf_tec_precision, rf_tec_recall, rf_tec_f1_score,\n",
    "               rf_uni_precision, rf_uni_recall, rf_uni_f1_score ]\n",
    "\n",
    "table[ 5 ] = [ accuracy_xgb, roc_auc_xgb, xgb_no_precision, xgb_no_recall, \n",
    "               xgb_no_f1_score, xgb_tec_precision, xgb_tec_recall, xgb_tec_f1_score,\n",
    "               xgb_uni_precision, xgb_uni_recall, xgb_uni_f1_score ]\n",
    "\n",
    "colnames_table = [ \"Overall_Accuracy\", \"Roc_Auc\", \"Ninguna_Precision\", \"Ninguna_Recall\",\n",
    "                   \"Ninguna_F1_Score\", \"Tec_Precision\", \"Tec_Recall\", \"Tec_F1_Score\",\n",
    "                   \"Uni_Precision\", \"Uni_Recall\", \"Uni_F1_Dcore\" ]\n",
    "                  \n",
    "rownames_table = [ \"Logistic Regression\", \"Lasso\",\n",
    "                   \"Ridge\", \"Elastic Net\",\n",
    "                   \"Random Forest\", \"Boosted Trees\" ]\n",
    "\n",
    "table_pandas = pd.DataFrame( table, columns = colnames_table )\n",
    "table_pandas.index = rownames_table\n",
    "\n",
    "table_pandas = table_pandas.round(3)\n",
    "table_pandas"
   ]
  },
  {
   "cell_type": "markdown",
   "id": "4c962de8-10c9-4208-bcb9-e281db2df598",
   "metadata": {},
   "source": [
    "## 8. Feature map"
   ]
  },
  {
   "cell_type": "code",
   "execution_count": 34,
   "id": "d79d4718-f9d6-4e25-a93d-1616041b149f",
   "metadata": {},
   "outputs": [
    {
     "data": {
      "text/plain": [
       "c_gru71hd_     0.018718\n",
       "e_p311t1_      0.017443\n",
       "c_gru31hd_     0.016666\n",
       "e_p311b_7_     0.016174\n",
       "c_gru61hd_     0.016010\n",
       "c_gru81hd_     0.015812\n",
       "e_p311b_1_     0.015277\n",
       "c_inghog1d_    0.015217\n",
       "c_gashog2d_    0.014244\n",
       "c_sg42_        0.013892\n",
       "dtype: float64"
      ]
     },
     "execution_count": 34,
     "metadata": {},
     "output_type": "execute_result"
    }
   ],
   "source": [
    "# Random Forest\n",
    "fp_randomforest = pd.Series( rf_optimal_model.feature_importances_, index = pred_vars).\\\n",
    "                  sort_values( ascending = False )\n",
    "fp_randomforest.head(10)"
   ]
  },
  {
   "cell_type": "code",
   "execution_count": 35,
   "id": "4d65cbc1-048a-4695-af7e-d08cab66e901",
   "metadata": {},
   "outputs": [
    {
     "data": {
      "text/plain": [
       "c_gru52hd1_    0.035057\n",
       "e_p311a5_5_    0.030793\n",
       "e_p4032_       0.030132\n",
       "c_ig03hd3_     0.022038\n",
       "c_gru42hd1_    0.021753\n",
       "e_p414_09_     0.021352\n",
       "c_g05hd1_      0.019857\n",
       "c_gru73hd3_    0.019725\n",
       "c_ingtpu05_    0.018714\n",
       "c_paesechd_    0.018075\n",
       "dtype: float32"
      ]
     },
     "execution_count": 35,
     "metadata": {},
     "output_type": "execute_result"
    }
   ],
   "source": [
    "# Boosted Trees\n",
    "fp_xgboost = pd.Series( xgb_optimal_model.feature_importances_, index = pred_vars).\\\n",
    "           sort_values( ascending = False )\n",
    "fp_xgboost.head(10)"
   ]
  }
 ],
 "metadata": {
  "kernelspec": {
   "display_name": "Python 3 (ipykernel)",
   "language": "python",
   "name": "python3"
  },
  "language_info": {
   "codemirror_mode": {
    "name": "ipython",
    "version": 3
   },
   "file_extension": ".py",
   "mimetype": "text/x-python",
   "name": "python",
   "nbconvert_exporter": "python",
   "pygments_lexer": "ipython3",
   "version": "3.9.13"
  }
 },
 "nbformat": 4,
 "nbformat_minor": 5
}
