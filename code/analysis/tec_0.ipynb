{
 "cells": [
  {
   "cell_type": "markdown",
   "id": "e98a1274-9814-409e-8cb3-3c9b4c2b471e",
   "metadata": {},
   "source": [
    "# Variable dependiente: Acceso a Educación Técnica (dicotómica)"
   ]
  },
  {
   "cell_type": "markdown",
   "id": "43cfe17b-a071-429c-a9e9-923553bbcbe8",
   "metadata": {},
   "source": [
    "## 1. Cargar data"
   ]
  },
  {
   "cell_type": "code",
   "execution_count": 1,
   "id": "f869083d-626d-49e5-b1f0-e9f2bc51fe45",
   "metadata": {},
   "outputs": [],
   "source": [
    "import warnings\n",
    "warnings.filterwarnings('ignore')"
   ]
  },
  {
   "cell_type": "code",
   "execution_count": 2,
   "id": "1b583b68-8f4e-466b-844d-630fe3555b01",
   "metadata": {},
   "outputs": [],
   "source": [
    "import pandas as  pd, numpy as np\n",
    "import variables as vb"
   ]
  },
  {
   "cell_type": "code",
   "execution_count": 3,
   "id": "6665f120-017c-4d00-8dcd-da5330d9a967",
   "metadata": {},
   "outputs": [],
   "source": [
    "# Cargar datos\n",
    "path = r'..\\..\\output\\data_preprocess\\dfs_0_tec.csv'\n",
    "data_original = pd.read_csv( path )"
   ]
  },
  {
   "cell_type": "code",
   "execution_count": 4,
   "id": "a79fb074-b2bd-4736-b3cd-05daa7b632f5",
   "metadata": {},
   "outputs": [
    {
     "data": {
      "text/plain": [
       "(875, 397)"
      ]
     },
     "execution_count": 4,
     "metadata": {},
     "output_type": "execute_result"
    }
   ],
   "source": [
    "data_original.shape"
   ]
  },
  {
   "cell_type": "markdown",
   "id": "c525ca70-d8c4-4126-84a1-8324405b16a9",
   "metadata": {},
   "source": [
    "## 2. Scale only numeric vars"
   ]
  },
  {
   "cell_type": "code",
   "execution_count": 5,
   "id": "f07cf93b-62d1-4d88-852d-894427a7b65c",
   "metadata": {},
   "outputs": [],
   "source": [
    "# https://stackoverflow.com/questions/38420847/apply-standardscaler-to-parts-of-a-data-set\n",
    "\n",
    "from sklearn.preprocessing import StandardScaler\n",
    "\n",
    "data = data_original.copy()\n",
    "\n",
    "numeric_vars = [col for col in data.columns if col in vb.num_vars ]\n",
    "\n",
    "cols = data[ numeric_vars ]\n",
    "scaler = StandardScaler().fit( cols.values )\n",
    "cols = scaler.transform( cols.values )\n",
    "\n",
    "data[ numeric_vars ] = cols"
   ]
  },
  {
   "cell_type": "markdown",
   "id": "b1263fa6-88d2-4a2a-bb06-a152ac553526",
   "metadata": {},
   "source": [
    "## 3. Split variables"
   ]
  },
  {
   "cell_type": "code",
   "execution_count": 6,
   "id": "b7e61c9b-26c2-4354-aab7-c4bfe3b74a7c",
   "metadata": {},
   "outputs": [],
   "source": [
    "from sklearn.model_selection import train_test_split"
   ]
  },
  {
   "cell_type": "code",
   "execution_count": 7,
   "id": "5565dfa2-2bff-4e16-803d-8b074c34666d",
   "metadata": {},
   "outputs": [],
   "source": [
    "dep_var = [ 'e_educacion_tec' ]\n",
    "pred_vars = [col for col in data.columns if col not in vb.dep_vars and col not in dep_var ]\n",
    "x_train, x_test, y_train, y_test = train_test_split( data[ pred_vars ], data[ 'e_educacion_tec' ], test_size = 0.25 )"
   ]
  },
  {
   "cell_type": "markdown",
   "id": "de2cb7c5-715f-4048-af70-b652d907e293",
   "metadata": {},
   "source": [
    "## 4. Logistic Regression"
   ]
  },
  {
   "cell_type": "code",
   "execution_count": 8,
   "id": "83677032-531a-4b21-9153-c17b62ee9bed",
   "metadata": {},
   "outputs": [],
   "source": [
    "from sklearn.linear_model import LogisticRegression\n",
    "from sklearn.metrics import accuracy_score, confusion_matrix, log_loss, roc_auc_score, f1_score, classification_report"
   ]
  },
  {
   "cell_type": "code",
   "execution_count": 9,
   "id": "6117c115-3dfd-4c75-a102-44cc92510a58",
   "metadata": {
    "tags": []
   },
   "outputs": [
    {
     "name": "stdout",
     "output_type": "stream",
     "text": [
      "Wall time: 370 ms\n"
     ]
    }
   ],
   "source": [
    "%%time\n",
    "\n",
    "# Implementing the model\n",
    "lg_model = LogisticRegression( max_iter = 10000 ).fit( x_train, y_train )\n",
    "\n",
    "# Predict over test set\n",
    "y_lg_pred_class = lg_model.predict( x_test )\n",
    "y_lg_pred_prob = lg_model.predict_proba( x_test )[ :, 1 ]"
   ]
  },
  {
   "cell_type": "code",
   "execution_count": 10,
   "id": "2caba658-b7f9-4cf4-9bd9-75ab7a6f9a5d",
   "metadata": {},
   "outputs": [],
   "source": [
    "# Calculating metrics\n",
    "columns = [ 'no', 'tec' ]\n",
    "lg_report = classification_report(y_test, y_lg_pred_class, target_names = columns, output_dict = True )\n",
    "\n",
    "lg_no_precision = lg_report[ 'no' ][ 'precision' ]\n",
    "lg_no_recall = lg_report[ 'no' ][ 'recall' ]\n",
    "lg_no_f1_score = lg_report[ 'no' ][ 'f1-score' ]\n",
    "\n",
    "lg_tec_precision = lg_report[ 'tec' ][ 'precision' ]\n",
    "lg_tec_recall = lg_report[ 'tec' ][ 'recall' ]\n",
    "lg_tec_f1_score = lg_report[ 'tec' ][ 'f1-score' ]\n",
    "\n",
    "accuracy_lg = accuracy_score( y_test, y_lg_pred_class )\n",
    "log_loss_lg = log_loss( y_test, y_lg_pred_class )\n",
    "roc_auc_lg = roc_auc_score( y_test, y_lg_pred_prob )"
   ]
  },
  {
   "cell_type": "code",
   "execution_count": 11,
   "id": "ebb02e7a-d3c1-49a9-8da0-3b3b859ef122",
   "metadata": {},
   "outputs": [
    {
     "name": "stdout",
     "output_type": "stream",
     "text": [
      "              precision    recall  f1-score   support\n",
      "\n",
      "          no       0.82      0.83      0.83       179\n",
      "         tec       0.21      0.20      0.21        40\n",
      "\n",
      "    accuracy                           0.72       219\n",
      "   macro avg       0.52      0.52      0.52       219\n",
      "weighted avg       0.71      0.72      0.71       219\n",
      "\n"
     ]
    }
   ],
   "source": [
    "print( classification_report(y_test, y_lg_pred_class, target_names = columns ) )"
   ]
  },
  {
   "cell_type": "markdown",
   "id": "5f1de3b4-16c3-44e2-90ae-d8a32015d21f",
   "metadata": {},
   "source": [
    "Info:\n",
    "* prod_proba according to https://scikit-learn.org/stable/modules/generated/sklearn.metrics.roc_auc_score.html"
   ]
  },
  {
   "cell_type": "markdown",
   "id": "885e8e6c-296d-487d-b825-96e17ea9b508",
   "metadata": {},
   "source": [
    "## 5. Regularization Methods (Lasso, Ridge and Elastic Net)"
   ]
  },
  {
   "cell_type": "code",
   "execution_count": 12,
   "id": "f6a37572-c609-4465-891a-391ad18b79b0",
   "metadata": {},
   "outputs": [],
   "source": [
    "from sklearn.linear_model import LogisticRegressionCV\n",
    "from sklearn.model_selection import GridSearchCV"
   ]
  },
  {
   "cell_type": "markdown",
   "id": "29747e4f-e0c6-4285-92f0-9214ca63883a",
   "metadata": {},
   "source": [
    "## 5.1. Lasso"
   ]
  },
  {
   "cell_type": "code",
   "execution_count": 13,
   "id": "df3ebdba-1439-4038-a96a-7cb0b137febd",
   "metadata": {
    "tags": []
   },
   "outputs": [
    {
     "name": "stdout",
     "output_type": "stream",
     "text": [
      "Wall time: 14min 16s\n"
     ]
    }
   ],
   "source": [
    "%%time\n",
    "\n",
    "# Implementing the model\n",
    "lasso_model = LogisticRegressionCV( penalty = 'l1', solver = 'saga', cv = 10, random_state = 0, max_iter = 10000 ).\\\n",
    "                               fit( x_train, y_train )\n",
    "\n",
    "# Predict over test set\n",
    "y_lasso_pred_class = lasso_model.predict( x_test )\n",
    "y_lasso_pred_prob = lasso_model.predict_proba( x_test )[ :, 1 ]"
   ]
  },
  {
   "cell_type": "code",
   "execution_count": 14,
   "id": "edd912d5-923d-4343-b1a4-a2ebdfe0998f",
   "metadata": {
    "tags": []
   },
   "outputs": [],
   "source": [
    "# Calculating metrics\n",
    "columns = [ 'no', 'tec' ]\n",
    "lasso_report = classification_report(y_test, y_lasso_pred_class, target_names = columns, output_dict = True )\n",
    "\n",
    "lasso_no_precision = lasso_report[ 'no' ][ 'precision' ]\n",
    "lasso_no_recall = lasso_report[ 'no' ][ 'recall' ]\n",
    "lasso_no_f1_score = lasso_report[ 'no' ][ 'f1-score' ]\n",
    "\n",
    "lasso_tec_precision = lasso_report[ 'tec' ][ 'precision' ]\n",
    "lasso_tec_recall = lasso_report[ 'tec' ][ 'recall' ]\n",
    "lasso_tec_f1_score = lasso_report[ 'tec' ][ 'f1-score' ]\n",
    "\n",
    "accuracy_lasso = accuracy_score( y_test, y_lasso_pred_class )\n",
    "log_loss_lasso = log_loss( y_test, y_lasso_pred_class )\n",
    "roc_auc_lasso = roc_auc_score( y_test, y_lasso_pred_prob )"
   ]
  },
  {
   "cell_type": "code",
   "execution_count": 15,
   "id": "9c8b7869-386e-423d-90bc-9f1e469b3091",
   "metadata": {},
   "outputs": [
    {
     "name": "stdout",
     "output_type": "stream",
     "text": [
      "              precision    recall  f1-score   support\n",
      "\n",
      "          no       0.82      1.00      0.90       179\n",
      "         tec       0.00      0.00      0.00        40\n",
      "\n",
      "    accuracy                           0.82       219\n",
      "   macro avg       0.41      0.50      0.45       219\n",
      "weighted avg       0.67      0.82      0.74       219\n",
      "\n"
     ]
    }
   ],
   "source": [
    "print( classification_report(y_test, y_lasso_pred_class, target_names = columns ) )"
   ]
  },
  {
   "cell_type": "markdown",
   "id": "f70c1068-7da4-47cc-a7c9-e850d09b3061",
   "metadata": {},
   "source": [
    "## 5.2. Ridge"
   ]
  },
  {
   "cell_type": "code",
   "execution_count": 16,
   "id": "19731d93-b3d3-42b9-b063-d95fd2d800b7",
   "metadata": {
    "tags": []
   },
   "outputs": [
    {
     "name": "stdout",
     "output_type": "stream",
     "text": [
      "Wall time: 10min 40s\n"
     ]
    }
   ],
   "source": [
    "%%time\n",
    "\n",
    "# Implementing the model\n",
    "ridge_model = LogisticRegressionCV( penalty = 'l2', solver = 'saga', cv = 10, random_state = 0, max_iter = 10000 ).\\\n",
    "                               fit( x_train, y_train )\n",
    "\n",
    "# Predict over test set\n",
    "y_ridge_pred_class = ridge_model.predict( x_test )\n",
    "y_ridge_pred_prob = ridge_model.predict_proba( x_test )[ :, 1 ]"
   ]
  },
  {
   "cell_type": "code",
   "execution_count": 17,
   "id": "c91f0d31-edff-45ae-bb91-c575857b1e8b",
   "metadata": {
    "tags": []
   },
   "outputs": [],
   "source": [
    "# Calculating metrics\n",
    "columns = [ 'no', 'tec' ]\n",
    "ridge_report = classification_report( y_test, y_ridge_pred_class, target_names = columns, output_dict = True )\n",
    "\n",
    "ridge_no_precision = ridge_report[ 'no' ][ 'precision' ]\n",
    "ridge_no_recall = ridge_report[ 'no' ][ 'recall' ]\n",
    "ridge_no_f1_score = ridge_report[ 'no' ][ 'f1-score' ]\n",
    "\n",
    "ridge_tec_precision = ridge_report[ 'tec' ][ 'precision' ]\n",
    "ridge_tec_recall = ridge_report[ 'tec' ][ 'recall' ]\n",
    "ridge_tec_f1_score = ridge_report[ 'tec' ][ 'f1-score' ]\n",
    "\n",
    "accuracy_ridge = accuracy_score( y_test, y_ridge_pred_class )\n",
    "log_loss_ridge = log_loss( y_test, y_ridge_pred_class )\n",
    "roc_auc_ridge = roc_auc_score( y_test, y_ridge_pred_prob )"
   ]
  },
  {
   "cell_type": "code",
   "execution_count": 18,
   "id": "74d5939c-6140-4c6d-af7a-3961aaf693c7",
   "metadata": {},
   "outputs": [
    {
     "name": "stdout",
     "output_type": "stream",
     "text": [
      "              precision    recall  f1-score   support\n",
      "\n",
      "          no       0.82      1.00      0.90       179\n",
      "         tec       0.00      0.00      0.00        40\n",
      "\n",
      "    accuracy                           0.82       219\n",
      "   macro avg       0.41      0.50      0.45       219\n",
      "weighted avg       0.67      0.82      0.74       219\n",
      "\n"
     ]
    }
   ],
   "source": [
    "print( classification_report(y_test, y_ridge_pred_class, target_names = columns ) )"
   ]
  },
  {
   "cell_type": "markdown",
   "id": "8d4d9a47-fe13-43e3-a75a-36846ba6ca27",
   "metadata": {},
   "source": [
    "### 5.3. Elastic Net"
   ]
  },
  {
   "cell_type": "code",
   "execution_count": 19,
   "id": "cfbb34f0-6341-42cf-8f87-b793ef9596a8",
   "metadata": {},
   "outputs": [
    {
     "name": "stdout",
     "output_type": "stream",
     "text": [
      "Wall time: 13min 53s\n"
     ]
    }
   ],
   "source": [
    "%%time\n",
    "\n",
    "# Implementing the model\n",
    "elasticnet_model = LogisticRegressionCV( penalty = 'elasticnet', solver = 'saga', cv = 10, random_state = 0, l1_ratios = [ 0.5 ], max_iter = 10000 ).\\\n",
    "                                    fit( x_train, y_train )\n",
    "\n",
    "# Predict over test set\n",
    "y_elasticnet_pred_class = elasticnet_model.predict( x_test )\n",
    "y_elasticnet_pred_prob = elasticnet_model.predict_proba( x_test )[ :, 1 ]"
   ]
  },
  {
   "cell_type": "code",
   "execution_count": 20,
   "id": "404c31a6-8e82-4732-aa68-18829b6f5fd0",
   "metadata": {
    "tags": []
   },
   "outputs": [],
   "source": [
    "# Calculating metrics\n",
    "columns = [ 'no', 'tec' ]\n",
    "elasticnet_report = classification_report( y_test, y_elasticnet_pred_class, target_names = columns, output_dict = True )\n",
    "\n",
    "elasticnet_no_precision = elasticnet_report[ 'no' ][ 'precision' ]\n",
    "elasticnet_no_recall = elasticnet_report[ 'no' ][ 'recall' ]\n",
    "elasticnet_no_f1_score = elasticnet_report[ 'no' ][ 'f1-score' ]\n",
    "\n",
    "elasticnet_tec_precision = elasticnet_report[ 'tec' ][ 'precision' ]\n",
    "elasticnet_tec_recall = elasticnet_report[ 'tec' ][ 'recall' ]\n",
    "elasticnet_tec_f1_score = elasticnet_report[ 'tec' ][ 'f1-score' ]\n",
    "\n",
    "accuracy_elasticnet = accuracy_score( y_test, y_elasticnet_pred_class )\n",
    "log_loss_elasticnet = log_loss( y_test, y_elasticnet_pred_class )\n",
    "roc_auc_elasticnet = roc_auc_score( y_test, y_elasticnet_pred_prob )"
   ]
  },
  {
   "cell_type": "code",
   "execution_count": 21,
   "id": "da7f8768-7871-4cb4-8e4c-0f6d36e7d388",
   "metadata": {},
   "outputs": [
    {
     "name": "stdout",
     "output_type": "stream",
     "text": [
      "              precision    recall  f1-score   support\n",
      "\n",
      "          no       0.82      1.00      0.90       179\n",
      "         tec       0.00      0.00      0.00        40\n",
      "\n",
      "    accuracy                           0.82       219\n",
      "   macro avg       0.41      0.50      0.45       219\n",
      "weighted avg       0.67      0.82      0.74       219\n",
      "\n"
     ]
    }
   ],
   "source": [
    "print( classification_report(y_test, y_elasticnet_pred_class, target_names = columns ) )"
   ]
  },
  {
   "cell_type": "markdown",
   "id": "cefe3bc6-56e5-47f6-97e5-06d72c55ad6f",
   "metadata": {},
   "source": [
    "## 6. Random Forest"
   ]
  },
  {
   "cell_type": "code",
   "execution_count": 22,
   "id": "ef9ae7e1-b000-4fac-abb5-e8e32c28488e",
   "metadata": {},
   "outputs": [],
   "source": [
    "from sklearn.ensemble import RandomForestClassifier\n",
    "from sklearn.model_selection import GridSearchCV"
   ]
  },
  {
   "cell_type": "code",
   "execution_count": 23,
   "id": "03fa0a5c-ab3c-41ea-9fc6-fae13f3b42dd",
   "metadata": {},
   "outputs": [
    {
     "name": "stdout",
     "output_type": "stream",
     "text": [
      "{'max_features': 'log2', 'n_estimators': 500}\n",
      "Wall time: 4min 38s\n"
     ]
    }
   ],
   "source": [
    "%%time\n",
    "\n",
    "# Set the model\n",
    "rf_model = RandomForestClassifier( random_state = 0 )\n",
    "\n",
    "# Define param grid\n",
    "rf_param_grid = {\n",
    "    'n_estimators': [ 500, 1000, 2000 ],\n",
    "    'max_features': [ 'auto', 'sqrt', 'log2' ]\n",
    "}\n",
    "\n",
    "# Grid search\n",
    "rf_search = GridSearchCV( estimator = rf_model,\n",
    "                          param_grid = rf_param_grid )\n",
    "\n",
    "# Fit to data\n",
    "rf_search.fit( x_train, y_train )\n",
    "\n",
    "# Print best params and best score\n",
    "print( rf_search.best_params_ )\n",
    "\n",
    "# Select best params\n",
    "rf_max_features = rf_search.best_params_[ 'max_features' ] \n",
    "rf_n_estimators = rf_search.best_params_[ 'n_estimators' ] "
   ]
  },
  {
   "cell_type": "code",
   "execution_count": 24,
   "id": "79dcabe0-c7bd-451f-96ba-62113f3618bd",
   "metadata": {},
   "outputs": [],
   "source": [
    "# Train the optimal model\n",
    "rf_optimal_model = RandomForestClassifier( max_features = rf_max_features, \n",
    "                                           n_estimators = rf_n_estimators )\n",
    "rf_optimal_model.fit( x_train, y_train )\n",
    "\n",
    "# Apply over test set\n",
    "y_rf_pred_class = rf_optimal_model.predict( x_test )\n",
    "y_rf_pred_prob = rf_optimal_model.predict_proba( x_test )[ :, 1 ]"
   ]
  },
  {
   "cell_type": "code",
   "execution_count": 25,
   "id": "df5e536a-8fd6-4d69-9007-3fb41795eb92",
   "metadata": {},
   "outputs": [],
   "source": [
    "# Calculating metrics\n",
    "columns = [ 'no', 'tec' ]\n",
    "rf_report = classification_report(y_test, y_rf_pred_class, target_names = columns, output_dict = True )\n",
    "\n",
    "rf_no_precision = rf_report[ 'no' ][ 'precision' ]\n",
    "rf_no_recall = rf_report[ 'no' ][ 'recall' ]\n",
    "rf_no_f1_score = rf_report[ 'no' ][ 'f1-score' ]\n",
    "\n",
    "rf_tec_precision = rf_report[ 'tec' ][ 'precision' ]\n",
    "rf_tec_recall = rf_report[ 'tec' ][ 'recall' ]\n",
    "rf_tec_f1_score = rf_report[ 'tec' ][ 'f1-score' ]\n",
    "\n",
    "accuracy_rf = accuracy_score( y_test, y_rf_pred_class )\n",
    "log_loss_rf = log_loss( y_test, y_rf_pred_class )\n",
    "roc_auc_rf = roc_auc_score( y_test, y_rf_pred_prob )"
   ]
  },
  {
   "cell_type": "code",
   "execution_count": 26,
   "id": "ed0db2a5-0264-4105-83cc-8743af0a755b",
   "metadata": {},
   "outputs": [
    {
     "name": "stdout",
     "output_type": "stream",
     "text": [
      "              precision    recall  f1-score   support\n",
      "\n",
      "          no       0.82      0.99      0.90       179\n",
      "         tec       0.67      0.05      0.09        40\n",
      "\n",
      "    accuracy                           0.82       219\n",
      "   macro avg       0.75      0.52      0.50       219\n",
      "weighted avg       0.80      0.82      0.75       219\n",
      "\n"
     ]
    }
   ],
   "source": [
    "print( classification_report(y_test, y_rf_pred_class, target_names = columns ) )"
   ]
  },
  {
   "cell_type": "markdown",
   "id": "026f6749-f136-4af6-bc6d-1e74f5b545fe",
   "metadata": {},
   "source": [
    "## 7. Boosted Trees"
   ]
  },
  {
   "cell_type": "code",
   "execution_count": 27,
   "id": "a5ab6514-d4b1-4269-80c4-aac63934946c",
   "metadata": {
    "tags": []
   },
   "outputs": [],
   "source": [
    "from xgboost import XGBClassifier"
   ]
  },
  {
   "cell_type": "code",
   "execution_count": 28,
   "id": "ec17151f-0cd5-4b8f-a650-e913b3078648",
   "metadata": {
    "tags": []
   },
   "outputs": [
    {
     "name": "stdout",
     "output_type": "stream",
     "text": [
      "{'learning_rate': 0.5, 'n_estimators': 500}\n",
      "Wall time: 4min 39s\n"
     ]
    }
   ],
   "source": [
    "%%time\n",
    "\n",
    "# Set the model\n",
    "xgb_model = XGBClassifier( use_label_encoder = False, objective = 'binary:logistic', verbosity = 0 )\n",
    "\n",
    "# Define param grid\n",
    "xgb_param_grid = {\n",
    "    'n_estimators': [ 500, 1000, 2000 ],\n",
    "    'learning_rate': [0.1, 0.5, 1]\n",
    "}\n",
    "\n",
    "# Grid search\n",
    "xgb_search = GridSearchCV( estimator = xgb_model,\n",
    "                           param_grid = xgb_param_grid )\n",
    "\n",
    "# Fit to data\n",
    "xgb_search.fit( x_train, y_train )\n",
    "\n",
    "# Print best params and best score\n",
    "print( xgb_search.best_params_ )\n",
    "\n",
    "# Select best params\n",
    "xgb_learning_rate = xgb_search.best_params_[ 'learning_rate' ] \n",
    "xgb_n_estimators = xgb_search.best_params_[ 'n_estimators' ] "
   ]
  },
  {
   "cell_type": "code",
   "execution_count": 29,
   "id": "c681c5cf-d52d-4255-82d1-9dc56b4d5c32",
   "metadata": {
    "tags": []
   },
   "outputs": [],
   "source": [
    "# Train the optimal model\n",
    "xgb_optimal_model = XGBClassifier( objective = 'binary:logistic', \n",
    "                                   verbosity = 0,\n",
    "                                   learning_rate = xgb_learning_rate, \n",
    "                                   n_estimators = xgb_n_estimators )\n",
    "xgb_optimal_model.fit( x_train, y_train )\n",
    "\n",
    "# Apply over test set\n",
    "y_xgb_pred_class = xgb_optimal_model.predict( x_test )\n",
    "y_xgb_pred_prob = xgb_optimal_model.predict_proba( x_test )[ :, 1 ]"
   ]
  },
  {
   "cell_type": "code",
   "execution_count": 30,
   "id": "fab7d8e5-9084-4c7b-9e16-e0eedefa9407",
   "metadata": {},
   "outputs": [],
   "source": [
    "# Calculating metrics\n",
    "columns = [ 'no', 'tec' ]\n",
    "xgb_report = classification_report(y_test, y_xgb_pred_class, target_names = columns, output_dict = True )\n",
    "\n",
    "xgb_no_precision = xgb_report[ 'no' ][ 'precision' ]\n",
    "xgb_no_recall = xgb_report[ 'no' ][ 'recall' ]\n",
    "xgb_no_f1_score = xgb_report[ 'no' ][ 'f1-score' ]\n",
    "\n",
    "xgb_tec_precision = xgb_report[ 'tec' ][ 'precision' ]\n",
    "xgb_tec_recall = xgb_report[ 'tec' ][ 'recall' ]\n",
    "xgb_tec_f1_score = xgb_report[ 'tec' ][ 'f1-score' ]\n",
    "\n",
    "accuracy_xgb = accuracy_score( y_test, y_xgb_pred_class )\n",
    "log_loss_xgb = log_loss( y_test, y_xgb_pred_class )\n",
    "roc_auc_xgb = roc_auc_score( y_test, y_xgb_pred_prob )"
   ]
  },
  {
   "cell_type": "markdown",
   "id": "2ab0aa62-9a5d-448b-8adb-1c31771d682d",
   "metadata": {},
   "source": [
    "## 7. Resultados"
   ]
  },
  {
   "cell_type": "code",
   "execution_count": 31,
   "id": "8bafafda-ca6c-4bb5-a0ea-5d2b3a2fb654",
   "metadata": {},
   "outputs": [
    {
     "data": {
      "text/html": [
       "<div>\n",
       "<style scoped>\n",
       "    .dataframe tbody tr th:only-of-type {\n",
       "        vertical-align: middle;\n",
       "    }\n",
       "\n",
       "    .dataframe tbody tr th {\n",
       "        vertical-align: top;\n",
       "    }\n",
       "\n",
       "    .dataframe thead th {\n",
       "        text-align: right;\n",
       "    }\n",
       "</style>\n",
       "<table border=\"1\" class=\"dataframe\">\n",
       "  <thead>\n",
       "    <tr style=\"text-align: right;\">\n",
       "      <th></th>\n",
       "      <th>Overall_Accuracy</th>\n",
       "      <th>Roc_Auc</th>\n",
       "      <th>Ninguna_Precision</th>\n",
       "      <th>Ninguna_Recall</th>\n",
       "      <th>Ninguna_F1_Score</th>\n",
       "      <th>Tec_Precision</th>\n",
       "      <th>Tec_Recall</th>\n",
       "      <th>Tec_F1_Score</th>\n",
       "    </tr>\n",
       "  </thead>\n",
       "  <tbody>\n",
       "    <tr>\n",
       "      <th>Logistic Regression</th>\n",
       "      <td>0.717</td>\n",
       "      <td>0.580</td>\n",
       "      <td>0.823</td>\n",
       "      <td>0.832</td>\n",
       "      <td>0.828</td>\n",
       "      <td>0.211</td>\n",
       "      <td>0.200</td>\n",
       "      <td>0.205</td>\n",
       "    </tr>\n",
       "    <tr>\n",
       "      <th>Lasso</th>\n",
       "      <td>0.817</td>\n",
       "      <td>0.500</td>\n",
       "      <td>0.817</td>\n",
       "      <td>1.000</td>\n",
       "      <td>0.899</td>\n",
       "      <td>0.000</td>\n",
       "      <td>0.000</td>\n",
       "      <td>0.000</td>\n",
       "    </tr>\n",
       "    <tr>\n",
       "      <th>Ridge</th>\n",
       "      <td>0.817</td>\n",
       "      <td>0.553</td>\n",
       "      <td>0.817</td>\n",
       "      <td>1.000</td>\n",
       "      <td>0.899</td>\n",
       "      <td>0.000</td>\n",
       "      <td>0.000</td>\n",
       "      <td>0.000</td>\n",
       "    </tr>\n",
       "    <tr>\n",
       "      <th>Elastic Net</th>\n",
       "      <td>0.817</td>\n",
       "      <td>0.500</td>\n",
       "      <td>0.817</td>\n",
       "      <td>1.000</td>\n",
       "      <td>0.899</td>\n",
       "      <td>0.000</td>\n",
       "      <td>0.000</td>\n",
       "      <td>0.000</td>\n",
       "    </tr>\n",
       "    <tr>\n",
       "      <th>Random Forest</th>\n",
       "      <td>0.822</td>\n",
       "      <td>0.556</td>\n",
       "      <td>0.824</td>\n",
       "      <td>0.994</td>\n",
       "      <td>0.901</td>\n",
       "      <td>0.667</td>\n",
       "      <td>0.050</td>\n",
       "      <td>0.093</td>\n",
       "    </tr>\n",
       "    <tr>\n",
       "      <th>Boosted Trees</th>\n",
       "      <td>0.795</td>\n",
       "      <td>0.524</td>\n",
       "      <td>0.822</td>\n",
       "      <td>0.955</td>\n",
       "      <td>0.884</td>\n",
       "      <td>0.273</td>\n",
       "      <td>0.075</td>\n",
       "      <td>0.118</td>\n",
       "    </tr>\n",
       "  </tbody>\n",
       "</table>\n",
       "</div>"
      ],
      "text/plain": [
       "                     Overall_Accuracy  Roc_Auc  Ninguna_Precision  \\\n",
       "Logistic Regression             0.717    0.580              0.823   \n",
       "Lasso                           0.817    0.500              0.817   \n",
       "Ridge                           0.817    0.553              0.817   \n",
       "Elastic Net                     0.817    0.500              0.817   \n",
       "Random Forest                   0.822    0.556              0.824   \n",
       "Boosted Trees                   0.795    0.524              0.822   \n",
       "\n",
       "                     Ninguna_Recall  Ninguna_F1_Score  Tec_Precision  \\\n",
       "Logistic Regression           0.832             0.828          0.211   \n",
       "Lasso                         1.000             0.899          0.000   \n",
       "Ridge                         1.000             0.899          0.000   \n",
       "Elastic Net                   1.000             0.899          0.000   \n",
       "Random Forest                 0.994             0.901          0.667   \n",
       "Boosted Trees                 0.955             0.884          0.273   \n",
       "\n",
       "                     Tec_Recall  Tec_F1_Score  \n",
       "Logistic Regression       0.200         0.205  \n",
       "Lasso                     0.000         0.000  \n",
       "Ridge                     0.000         0.000  \n",
       "Elastic Net               0.000         0.000  \n",
       "Random Forest             0.050         0.093  \n",
       "Boosted Trees             0.075         0.118  "
      ]
     },
     "execution_count": 31,
     "metadata": {},
     "output_type": "execute_result"
    }
   ],
   "source": [
    "table = np.zeros( ( 6, 8 ) )\n",
    "\n",
    "table[ 0 ] = [ accuracy_lg, roc_auc_lg, lg_no_precision, lg_no_recall, \n",
    "               lg_no_f1_score, lg_tec_precision, lg_tec_recall, lg_tec_f1_score ]\n",
    "\n",
    "table[ 1 ] = [ accuracy_lasso, roc_auc_lasso, lasso_no_precision, lasso_no_recall, \n",
    "               lasso_no_f1_score, lasso_tec_precision, lasso_tec_recall, lasso_tec_f1_score ]\n",
    "\n",
    "table[ 2 ] = [ accuracy_ridge, roc_auc_ridge, ridge_no_precision, ridge_no_recall, \n",
    "               ridge_no_f1_score, ridge_tec_precision, ridge_tec_recall, ridge_tec_f1_score ]\n",
    "\n",
    "table[ 3 ] = [ accuracy_elasticnet, roc_auc_elasticnet, elasticnet_no_precision, elasticnet_no_recall, \n",
    "               elasticnet_no_f1_score, elasticnet_tec_precision, elasticnet_tec_recall, elasticnet_tec_f1_score ]\n",
    "\n",
    "table[ 4 ] = [ accuracy_rf, roc_auc_rf, rf_no_precision, rf_no_recall, \n",
    "               rf_no_f1_score, rf_tec_precision, rf_tec_recall, rf_tec_f1_score ]\n",
    "\n",
    "table[ 5 ] = [ accuracy_xgb, roc_auc_xgb, xgb_no_precision, xgb_no_recall, \n",
    "               xgb_no_f1_score, xgb_tec_precision, xgb_tec_recall, xgb_tec_f1_score ]\n",
    "\n",
    "colnames_table = [ \"Overall_Accuracy\", \"Roc_Auc\", \"Ninguna_Precision\", \"Ninguna_Recall\",\n",
    "                   \"Ninguna_F1_Score\", \"Tec_Precision\", \"Tec_Recall\", \"Tec_F1_Score\" ]\n",
    "                  \n",
    "rownames_table = [ \"Logistic Regression\", \"Lasso\",\n",
    "                   \"Ridge\", \"Elastic Net\",\n",
    "                   \"Random Forest\", \"Boosted Trees\" ]\n",
    "\n",
    "table_pandas = pd.DataFrame( table, columns = colnames_table )\n",
    "table_pandas.index = rownames_table\n",
    "\n",
    "table_pandas = table_pandas.round(3)\n",
    "table_pandas"
   ]
  },
  {
   "cell_type": "markdown",
   "id": "4c962de8-10c9-4208-bcb9-e281db2df598",
   "metadata": {},
   "source": [
    "## 8. Feature map"
   ]
  },
  {
   "cell_type": "code",
   "execution_count": 32,
   "id": "d79d4718-f9d6-4e25-a93d-1616041b149f",
   "metadata": {},
   "outputs": [
    {
     "data": {
      "text/plain": [
       "c_g05hd_       0.013945\n",
       "e_p311t1_      0.013654\n",
       "c_gru31hd_     0.013523\n",
       "c_gru34hd_     0.013119\n",
       "e_p311b_1_     0.013094\n",
       "c_gru81hd_     0.013012\n",
       "e_p311b_7_     0.012936\n",
       "c_gashog2d_    0.012861\n",
       "c_ingindhd_    0.012589\n",
       "c_gru21hd_     0.012527\n",
       "dtype: float64"
      ]
     },
     "execution_count": 32,
     "metadata": {},
     "output_type": "execute_result"
    }
   ],
   "source": [
    "# Random Forest\n",
    "fp_randomforest = pd.Series( rf_optimal_model.feature_importances_, index = pred_vars).\\\n",
    "                  sort_values( ascending = False )\n",
    "fp_randomforest.head(10)"
   ]
  },
  {
   "cell_type": "code",
   "execution_count": 33,
   "id": "4d65cbc1-048a-4695-af7e-d08cab66e901",
   "metadata": {},
   "outputs": [
    {
     "data": {
      "text/plain": [
       "e_p4025_       0.057144\n",
       "j_p556t1_      0.045508\n",
       "c_isecauhd_    0.040821\n",
       "j_p558f_       0.032994\n",
       "c_insedthd_    0.027649\n",
       "c_paesechd_    0.025286\n",
       "e_p4031_       0.023634\n",
       "e_p40314_      0.023363\n",
       "e_p558c_       0.023209\n",
       "e_p312t1_      0.023059\n",
       "dtype: float32"
      ]
     },
     "execution_count": 33,
     "metadata": {},
     "output_type": "execute_result"
    }
   ],
   "source": [
    "# Boosted Trees\n",
    "fp_xgboost = pd.Series( xgb_optimal_model.feature_importances_, index = pred_vars).\\\n",
    "           sort_values( ascending = False )\n",
    "fp_xgboost.head(10)"
   ]
  }
 ],
 "metadata": {
  "kernelspec": {
   "display_name": "Python 3 (ipykernel)",
   "language": "python",
   "name": "python3"
  },
  "language_info": {
   "codemirror_mode": {
    "name": "ipython",
    "version": 3
   },
   "file_extension": ".py",
   "mimetype": "text/x-python",
   "name": "python",
   "nbconvert_exporter": "python",
   "pygments_lexer": "ipython3",
   "version": "3.9.13"
  }
 },
 "nbformat": 4,
 "nbformat_minor": 5
}
